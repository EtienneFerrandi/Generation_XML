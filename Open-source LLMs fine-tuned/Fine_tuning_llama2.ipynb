{
  "cells": [
    {
      "cell_type": "code",
      "execution_count": null,
      "metadata": {
        "colab": {
          "base_uri": "https://localhost:8080/"
        },
        "id": "k0s-WpKXB5H-",
        "outputId": "72c80faf-a668-4fb2-fa62-ecea567f4959"
      },
      "outputs": [
        {
          "output_type": "stream",
          "name": "stdout",
          "text": [
            "Mounted at /content/drive\n"
          ]
        }
      ],
      "source": [
        "from google.colab import drive\n",
        "drive.mount('/content/drive')"
      ]
    },
    {
      "cell_type": "code",
      "execution_count": null,
      "metadata": {
        "colab": {
          "base_uri": "https://localhost:8080/"
        },
        "id": "aObQpeJyCBaj",
        "outputId": "8b7e5505-3bca-4830-d929-b6403cd30141"
      },
      "outputs": [
        {
          "output_type": "stream",
          "name": "stdout",
          "text": [
            "/content/drive/MyDrive/Automat_EAD/GT_EAD\n"
          ]
        }
      ],
      "source": [
        "%cd \"/content/drive/MyDrive/Automat_EAD/GT_EAD\""
      ]
    },
    {
      "cell_type": "code",
      "execution_count": null,
      "metadata": {
        "id": "FO4GjIMVCDnc",
        "colab": {
          "base_uri": "https://localhost:8080/"
        },
        "outputId": "b51fecce-0a8a-497c-af1f-6dd49be9e832"
      },
      "outputs": [
        {
          "output_type": "stream",
          "name": "stdout",
          "text": [
            "\u001b[2K     \u001b[90m━━━━━━━━━━━━━━━━━━━━━━━━━━━━━━━━━━━━━━━━\u001b[0m \u001b[32m92.6/92.6 MB\u001b[0m \u001b[31m20.2 MB/s\u001b[0m eta \u001b[36m0:00:00\u001b[0m\n",
            "\u001b[2K     \u001b[90m━━━━━━━━━━━━━━━━━━━━━━━━━━━━━━━━━━━━━━━━\u001b[0m \u001b[32m261.4/261.4 kB\u001b[0m \u001b[31m6.0 MB/s\u001b[0m eta \u001b[36m0:00:00\u001b[0m\n",
            "\u001b[2K     \u001b[90m━━━━━━━━━━━━━━━━━━━━━━━━━━━━━━━━━━━━━━━━\u001b[0m \u001b[32m174.7/174.7 kB\u001b[0m \u001b[31m3.6 MB/s\u001b[0m eta \u001b[36m0:00:00\u001b[0m\n",
            "\u001b[2K     \u001b[90m━━━━━━━━━━━━━━━━━━━━━━━━━━━━━━━━━━━━━━━━\u001b[0m \u001b[32m133.9/133.9 kB\u001b[0m \u001b[31m3.5 MB/s\u001b[0m eta \u001b[36m0:00:00\u001b[0m\n",
            "\u001b[2K     \u001b[90m━━━━━━━━━━━━━━━━━━━━━━━━━━━━━━━━━━━━━━━━\u001b[0m \u001b[32m521.2/521.2 kB\u001b[0m \u001b[31m32.6 MB/s\u001b[0m eta \u001b[36m0:00:00\u001b[0m\n",
            "\u001b[2K     \u001b[90m━━━━━━━━━━━━━━━━━━━━━━━━━━━━━━━━━━━━━━━━\u001b[0m \u001b[32m100.5/100.5 kB\u001b[0m \u001b[31m15.5 MB/s\u001b[0m eta \u001b[36m0:00:00\u001b[0m\n",
            "\u001b[2K     \u001b[90m━━━━━━━━━━━━━━━━━━━━━━━━━━━━━━━━━━━━━━━━\u001b[0m \u001b[32m115.3/115.3 kB\u001b[0m \u001b[31m17.3 MB/s\u001b[0m eta \u001b[36m0:00:00\u001b[0m\n",
            "\u001b[2K     \u001b[90m━━━━━━━━━━━━━━━━━━━━━━━━━━━━━━━━━━━━━━━━\u001b[0m \u001b[32m134.8/134.8 kB\u001b[0m \u001b[31m18.9 MB/s\u001b[0m eta \u001b[36m0:00:00\u001b[0m\n",
            "\u001b[2K     \u001b[90m━━━━━━━━━━━━━━━━━━━━━━━━━━━━━━━━━━━━━━━━\u001b[0m \u001b[32m1.3/1.3 MB\u001b[0m \u001b[31m18.6 MB/s\u001b[0m eta \u001b[36m0:00:00\u001b[0m\n",
            "\u001b[?25h"
          ]
        }
      ],
      "source": [
        "!pip install -q torch\n",
        "!pip install -q transformers\n",
        "!pip install -q bitsandbytes\n",
        "!pip install -q accelerate\n",
        "!pip install -q peft\n",
        "!pip install -q trl\n",
        "!pip install -q sentencepiece\n",
        "!pip install -q tensorflow"
      ]
    },
    {
      "cell_type": "code",
      "execution_count": null,
      "metadata": {
        "id": "BEWfBLxaCFNQ",
        "colab": {
          "base_uri": "https://localhost:8080/"
        },
        "outputId": "a5dfff4e-a633-4994-9c30-afef003a2c14"
      },
      "outputs": [
        {
          "output_type": "stream",
          "name": "stderr",
          "text": [
            "/usr/local/lib/python3.10/dist-packages/trl/trainer/ppo_config.py:141: UserWarning: The `optimize_cuda_cache` arguement will be deprecated soon, please use `optimize_device_cache` instead.\n",
            "  warnings.warn(\n"
          ]
        }
      ],
      "source": [
        "from time import time\n",
        "import os\n",
        "import torch\n",
        "import sentencepiece\n",
        "from transformers import (\n",
        "    AutoModelForCausalLM,\n",
        "    BitsAndBytesConfig,\n",
        "    LlamaTokenizerFast,\n",
        "    TrainingArguments,\n",
        "    pipeline,\n",
        "    Trainer\n",
        ")\n",
        "from peft import LoraConfig, PeftModel, get_peft_model\n",
        "from trl import SFTTrainer"
      ]
    },
    {
      "cell_type": "markdown",
      "metadata": {
        "id": "a1AiC2XpCPVQ"
      },
      "source": [
        "Nous téléchargeons le modèle (à n'executer qu'une fois)"
      ]
    },
    {
      "cell_type": "code",
      "execution_count": null,
      "metadata": {
        "id": "pMVeNcreCP8F"
      },
      "outputs": [],
      "source": [
        "!mkdir -p llama-2-7b-hf\n",
        "\n",
        "!wget https://huggingface.co/NousResearch/Llama-2-7b-hf/blob/main/config.json\n",
        "!wget https://huggingface.co/NousResearch/Llama-2-7b-hf/blob/main/generation_config.json\n",
        "!wget https://huggingface.co/NousResearch/Llama-2-7b-hf/blob/main/model-00001-of-00002.safetensors\n",
        "!wget https://huggingface.co/NousResearch/Llama-2-7b-hf/blob/main/model-00002-of-00002.safetensors\n",
        "!wget https://huggingface.co/NousResearch/Llama-2-7b-hf/blob/main/model.safetensors.index.json\n",
        "!wget https://huggingface.co/NousResearch/Llama-2-7b-hf/blob/main/pytorch_model-00001-of-00003.bin\n",
        "!wget https://huggingface.co/NousResearch/Llama-2-7b-hf/blob/main/pytorch_model-00002-of-00003.bin\n",
        "!wget https://huggingface.co/NousResearch/Llama-2-7b-hf/blob/main/pytorch_model-00003-of-00003.bin\n",
        "!wget https://huggingface.co/NousResearch/Llama-2-7b-hf/blob/main/pytorch_model.bin.index.json\n",
        "!wget https://huggingface.co/NousResearch/Llama-2-7b-hf/blob/main/special_tokens_map.json\n",
        "!wget https://huggingface.co/NousResearch/Llama-2-7b-hf/blob/main/tokenizer.json\n",
        "!wget https://huggingface.co/NousResearch/Llama-2-7b-hf/blob/main/tokenizer.model\n",
        "!wget https://huggingface.co/NousResearch/Llama-2-7b-hf/blob/main/tokenizer_config.json"
      ]
    },
    {
      "cell_type": "markdown",
      "metadata": {
        "id": "5VvIVNY0CUNv"
      },
      "source": [
        "Pour plus de commodité, nous déposons l'ensemble des paramètres ici :\n",
        "\n",
        "---\n",
        "\n"
      ]
    },
    {
      "cell_type": "code",
      "execution_count": null,
      "metadata": {
        "id": "GZ6fdNacCXvj"
      },
      "outputs": [],
      "source": [
        "# Les paramètres de base\n",
        "lora_alpha = 16\n",
        "lora_dropout = 0.1\n",
        "lora_r = 64\n",
        "\n",
        "per_device_train_batch_size = 4 #nombre d'extraits pour chaque fichier\n",
        "gradient_accumulation_steps = 4 #accumulation des gradients sur 10 mini-lots, ce qui revient à un per_device_train_batch_size virtuel de 4\n",
        "#automatise le processus d'abaissement de la taille du lot\n",
        "#fonctionne avec une décroissance exponentielle, réduisant la taille du lot de moitié après chaque échec d'exécution\n",
        "#Le per_device_train_batch_size est utilisé comme taille de lot initiale pour commencer. Ainsi, si vous utilisez la valeur par défaut de 8, il démarre l'entraînement avec une taille de lot de 8(sur un seul appareil), et en cas d'échec, il redémarrera la procédure d'entraînement avec une taille de lot de 4\n",
        "auto_find_batch_size=False\n",
        "\n",
        "learning_rate = 2e-5 #Le taux d'apprentissage. Il est recommandé de le garder plutôt élevé pour des corpus en français et pour des \"petits\" LLMs.\n",
        "max_grad_norm = 0.3\n",
        "max_seq_length = 512 # the max number of tokens allowed for each sample\n",
        "\n",
        "# Sauvegarde des steps (permet de faire redémarrer l'entraînement si le fine-tuning ne fonctionne pas)\n",
        "# Ça prend aussi de l'espace sur colab. 100 est généralement un bon compromis (au pire on ne perd que 10-20 minutes d'entraînement)\n",
        "save_steps = 100\n",
        "\n",
        "# Nombre de steps : à ajuster selon la taille du corpus et le nombre d'epochs à faire tourner.\n",
        "#Il est aussi possible de définir un nombre d'epochs mais je préfère travailler par steps pour avoir une meilleure estimation du temps nécessaire.\n",
        "max_steps = 1\n",
        "\n",
        "# Fraction of steps to do a warmup for\n",
        "warmup_ratio = 0.03\n",
        "\n",
        "# Log every X updates steps\n",
        "logging_steps = 1\n",
        "\n",
        "# Group sequences into batches with same length (saves memory and speeds up training considerably)\n",
        "group_by_length = True\n",
        "\n",
        "# Learning rate schedule (constant a bit better than cosine, and has advantage for analysis)\n",
        "lr_scheduler_type = \"constant\"\n",
        "\n",
        "# Optimizer to use, original is paged_adamw_8bit\n",
        "optim = \"paged_adamw_32bit\"\n",
        "\n",
        "# Enable fp16 training\n",
        "fp16 = True\n",
        "\n",
        "# Enable bf16 training\n",
        "bf16 = False\n",
        "\n",
        "# Compute dtype for 4-bit base models\n",
        "bnb_4bit_compute_dtype = \"float16\"\n",
        "\n",
        "# Nous activons la quantisation en 4-bit pour le fine-tuning. Cela accélère significativement l'entraînement avec un impact limité sur le résultat final.\n",
        "use_4bit = True\n",
        "\n",
        "# Quantization type (fp4 or nf4)\n",
        "bnb_4bit_quant_type = \"nf4\"\n",
        "\n",
        "# Activer la quantification imbriquée pour les modèles de base 4 bits\n",
        "use_nested_quant = False\n",
        "\n",
        "# Le modèle de base que nous allons utiliser.\n",
        "model_name = \"llama-2-7b-hf\"\n",
        "\n",
        "# Le nom du nouveau modèle\n",
        "new_model_name = \"llama-2-7b-ead-v5\"\n",
        "\n",
        "# Load the entire model on the GPU 0\n",
        "device_map = {\"\": 0}\n",
        "\n",
        "# Le dossier final où seront déposés les poids du modèle.\n",
        "output_dir = \"./llama-2-7b-ead-v5\"\n",
        "\n",
        "# Use packing dataset creating\n",
        "packing = False\n",
        "\n",
        "# Visualize training\n",
        "report_to = \"tensorboard\"\n",
        "\n",
        "# Tensorboard logs\n",
        "tb_log_dir = \"./llama-2-7b-ead/logs\""
      ]
    },
    {
      "cell_type": "markdown",
      "metadata": {
        "id": "v-GODJ7BPm8p"
      },
      "source": [
        "Nous téléchargeons le modèle (à n'executer qu'une fois)"
      ]
    },
    {
      "cell_type": "markdown",
      "metadata": {
        "id": "_1XHgELzCdDS"
      },
      "source": [
        "Nous l'importons maintenant dans la session avec une configuration spéciale (4bit, bf16) pour accélérer le fine-tuning\n",
        "\n"
      ]
    },
    {
      "cell_type": "code",
      "execution_count": null,
      "metadata": {
        "id": "h-f_1MP_CvCo"
      },
      "outputs": [],
      "source": [
        "# Load tokenizer and model with QLoRA configuration\n",
        "# si message erreur : Using `low_cpu_mem_usage=True` or a `device_map` requires Accelerate: `pip install accelerate`,\n",
        "# redémarrer le noyau et relancer l'exécution\n",
        "compute_dtype = getattr(torch, bnb_4bit_compute_dtype)\n",
        "\n",
        "bnb_config = BitsAndBytesConfig(\n",
        "    load_in_4bit=use_4bit,\n",
        "    bnb_4bit_quant_type=bnb_4bit_quant_type,\n",
        "    bnb_4bit_compute_dtype = bnb_4bit_compute_dtype,\n",
        "    bnb_4bit_use_double_quant=use_nested_quant,\n",
        ")\n",
        "\n",
        "if compute_dtype == torch.float16 and use_4bit:\n",
        "    major, _ = torch.cuda.get_device_capability()\n",
        "    if major >= 8:\n",
        "        print(\"=\" * 80)\n",
        "        print(\"Your GPU supports bfloat16, you can accelerate training with the argument --bf16\")\n",
        "        print(\"=\" * 80)\n",
        "\n",
        "model = AutoModelForCausalLM.from_pretrained(\n",
        "    model_name,\n",
        "    device_map=\"auto\",\n",
        "    quantization_config=bnb_config,\n",
        ")\n",
        "\n",
        "model.config.use_cache = False\n",
        "model.config.pretraining_tp = 1"
      ]
    },
    {
      "cell_type": "markdown",
      "metadata": {
        "id": "CHrHuHXYC-ue"
      },
      "source": [
        "Nous téléchargeons le \"tokenizer\" : c'est une manière de convertir le texte en une série d'identifiants qui prennent moins de place. Selon les cas, un mot peut être représenté par un seul token ou par plusieurs."
      ]
    },
    {
      "cell_type": "code",
      "execution_count": null,
      "metadata": {
        "colab": {
          "base_uri": "https://localhost:8080/"
        },
        "id": "7JZR-Xi3VXgO",
        "outputId": "6caacc90-fbe1-417c-fa1f-d13ca1a6665f"
      },
      "outputs": [
        {
          "output_type": "stream",
          "name": "stdout",
          "text": [
            "mkdir: cannot create directory ‘tokenizer’: File exists\n"
          ]
        }
      ],
      "source": [
        "!mkdir tokenizer && cd tokenizer"
      ]
    },
    {
      "cell_type": "code",
      "execution_count": null,
      "metadata": {
        "id": "c-qu4Id6C_eU"
      },
      "outputs": [],
      "source": [
        "peft_config = LoraConfig(\n",
        "    lora_alpha=lora_alpha,\n",
        "    lora_dropout=lora_dropout,\n",
        "    r=lora_r,\n",
        "    inference_mode=False,\n",
        "    task_type=\"CAUSAL_LM\",\n",
        "    target_modules = [\"q_proj\", \"v_proj\"] #There are options to deepen the finetuning by unfreezing more weights but with a cost in performance\n",
        ")\n",
        "\n",
        "tokenizer = LlamaTokenizerFast.from_pretrained(model_name, add_eos_token=True, from_slow=True)\n",
        "tokenizer.pad_token = tokenizer.eos_token\n",
        "\n",
        "# This is the fix for fp16 training\n",
        "tokenizer.padding_side = \"right\""
      ]
    },
    {
      "cell_type": "code",
      "execution_count": null,
      "metadata": {
        "id": "GwDrFufNVjSf"
      },
      "outputs": [],
      "source": [
        "!cd .."
      ]
    },
    {
      "cell_type": "markdown",
      "metadata": {
        "id": "IMu5d-NuDEI4"
      },
      "source": [
        "**préparation des données**"
      ]
    },
    {
      "cell_type": "markdown",
      "metadata": {
        "id": "3JGpxAnlLo7S"
      },
      "source": [
        "\n",
        "On télécharge les données et on procède à la conversation dans un format ad hoc bien adapté à llama-base. La structure en dièse (###) est déjà reconnue.\n",
        "\n",
        "À noter que nous n'utilisons pas le format chat (type [INST])."
      ]
    },
    {
      "cell_type": "code",
      "execution_count": null,
      "metadata": {
        "id": "WMpWWsFKGMkw",
        "colab": {
          "base_uri": "https://localhost:8080/"
        },
        "outputId": "157a083c-e343-44ce-9815-a3a0d2016e61"
      },
      "outputs": [
        {
          "output_type": "stream",
          "name": "stdout",
          "text": [
            "  Preparing metadata (setup.py) ... \u001b[?25l\u001b[?25hdone\n",
            "  Building wheel for bs4 (setup.py) ... \u001b[?25l\u001b[?25hdone\n"
          ]
        }
      ],
      "source": [
        "!pip install -q datasets"
      ]
    },
    {
      "cell_type": "code",
      "execution_count": null,
      "metadata": {
        "id": "Q3i_DiWYGNBk"
      },
      "outputs": [],
      "source": [
        "from datasets import load_dataset\n",
        "from random import randrange"
      ]
    },
    {
      "cell_type": "code",
      "source": [
        "# Chargement du dataset.\n",
        "# dataset = load_dataset(\"databricks/databricks-dolly-15k\", split=\"train\")\n",
        "data_files = {\"train\": \"/content/drive/MyDrive/resultats_tableau_final.json\"}\n",
        "dataset = load_dataset(\"json\", data_files=data_files, split=\"train\")\n",
        "print(f\"dataset size: {len(dataset)}\")\n",
        "print(dataset[randrange(len(dataset))])"
      ],
      "metadata": {
        "colab": {
          "base_uri": "https://localhost:8080/",
          "height": 168,
          "referenced_widgets": [
            "38608a615ffc4076994b31d0c51a33cc",
            "b31dc7f143f241eab81816954261b3f0",
            "366428d377b5402e9849637e57feab0c",
            "2ab947c1e97a45d58f84f45f7ec9259d",
            "f4a8761bf0d847e6bad66c3b1107acfd",
            "f44307fc910440fabf549b4f0f5473bf",
            "fb59bdfd8eb6476e8f1f9c21f1d9133b",
            "6e4e2a2289d049b29fd4e7da4fafbe4f",
            "ac8c0846fe8c473594d397008a19f38d",
            "a0f63952cc6a492a851fba8dbfa01d57",
            "7eb33a4f33d34cb1958548439a9a9943",
            "3b731403c76c4fa0b13c2a90d39f4c0b",
            "046620b9dec04e829cec3d3706beb92e",
            "f6e9c35547784968b516329e7da74bea",
            "5fe2dd20a835490cb0d6e980b478d30e",
            "659d2b352678491cb2aed98e6de5d96d",
            "45946ca4c40c41a7851480ad18618436",
            "85098bf801d24cdd87b866cab33b8ffa",
            "f5af1bb73fa64f25b608a4934da59800",
            "84515914297949f391644d5b17fba3a3",
            "7aac7f08b42341b9baab76e45602ca07",
            "664b00c76ec7401da1b765d58ab9a969",
            "3292731ab81642fb8911331f864046bb",
            "a51bcac094ff49738ea970e030d07d6f",
            "6661960b76cd4ea5a1656259d1077e02",
            "56915b36276d4dbeaeed0707ac69f177",
            "2329e7f3c8354adbb3de2dd39e0342a3",
            "4d24dae604ed468fbb4a3c1af009dcaa",
            "7e43e38ed1364bc7a27c345dcfa92565",
            "cb58ce63ec3e4c00a5f7e0ed2460cf09",
            "48d77f15f08a41c6be8c401615c0c8c3",
            "d0fc5e62bd364926bcbfce2f386f1560",
            "cf50d691718f44eab23a25dd9d6f103b"
          ]
        },
        "id": "MtYBJWo0MtCb",
        "outputId": "4149b564-13a0-41d9-c742-3f46a9837f1f"
      },
      "execution_count": null,
      "outputs": [
        {
          "output_type": "display_data",
          "data": {
            "text/plain": [
              "Downloading data files:   0%|          | 0/1 [00:00<?, ?it/s]"
            ],
            "application/vnd.jupyter.widget-view+json": {
              "version_major": 2,
              "version_minor": 0,
              "model_id": "38608a615ffc4076994b31d0c51a33cc"
            }
          },
          "metadata": {}
        },
        {
          "output_type": "display_data",
          "data": {
            "text/plain": [
              "Extracting data files:   0%|          | 0/1 [00:00<?, ?it/s]"
            ],
            "application/vnd.jupyter.widget-view+json": {
              "version_major": 2,
              "version_minor": 0,
              "model_id": "3b731403c76c4fa0b13c2a90d39f4c0b"
            }
          },
          "metadata": {}
        },
        {
          "output_type": "display_data",
          "data": {
            "text/plain": [
              "Generating train split: 0 examples [00:00, ? examples/s]"
            ],
            "application/vnd.jupyter.widget-view+json": {
              "version_major": 2,
              "version_minor": 0,
              "model_id": "3292731ab81642fb8911331f864046bb"
            }
          },
          "metadata": {}
        },
        {
          "output_type": "stream",
          "name": "stdout",
          "text": [
            "dataset size: 28639\n",
            "{'answer': '<c level=\"recordgrp\">\\n<did>\\n<unitid>1/M/167</unitid>\\n<unitdate normal=\"1856-02-27\">27/02/1856</unitdate>\\n<unittitle>CORNEN, GABRIEL. Né le 27/02/1856 à PLOUARZEL (29). Matricule : 42759.</unittitle>\\n</did>\\n</c><c level=\"recordgrp\">\\n<did>\\n<unitid>1/M/235</unitid>\\n<unitdate normal=\"1879-06-06\">06/06/1879</unitdate>\\n<unittitle>CORNEN, GUILLAUME MARIE. Né le 06/06/1879 à LOCMARIA PLOUZANE (29). Matricule : 76530.</unittitle>\\n</did>\\n</c>', 'instruction': '1/M/16727/02/1856CORNEN, GABRIEL. Né le 27/02/1856 à PLOUARZEL (29). Matricule : 42759.1/M/23506/06/1879CORNEN, GUILLAUME MARIE. Né le 06/06/1879 à LOCMARIA PLOUZANE (29). Matricule : 76530.', 'ead_id': '10070_FRSHD_IND_1M.xml'}\n"
          ]
        }
      ]
    },
    {
      "cell_type": "code",
      "source": [
        "from random import randint\n",
        "def format_alpaca(sample):\n",
        "    instruction = f\"### Instruction\\n{sample['instruction']}\"\n",
        "    context = \"### Contexte\\nPourrais-tu m'encoder ce texte de description archivistique au format XML/EAD ? Attention, il ne s'agit que de balises <c> dans <dsc>.\"\n",
        "    response = f\"### Réponse\\n{sample['answer']}\"\n",
        "    # join all the parts together\n",
        "    prompt = \"\\n\\n\".join([i for i in [instruction, context, response] if i is not None])\n",
        "    return prompt\n",
        "\n",
        "def template_dataset(sample):\n",
        "    sample[\"text\"] = f\"{format_alpaca(sample)}{tokenizer.eos_token}\"\n",
        "    return sample\n",
        "\n",
        "dataset = dataset.map(template_dataset, remove_columns=list(dataset.features))\n",
        "print(f\"dataset size: {len(dataset)}\")\n",
        "print(dataset[randint(0, len(dataset))][\"text\"])"
      ],
      "metadata": {
        "id": "x7yqi8YjNtiz",
        "colab": {
          "base_uri": "https://localhost:8080/",
          "height": 433,
          "referenced_widgets": [
            "717768bb123b4b04ad8e5f8942a03f3e",
            "3f76eea63cc24dcaa0478f57344a87d1",
            "7e305d74ce104b35abcdbce7d9eb6244",
            "99c1f71fae974e3d9831cda0bcc37591",
            "5ffc2e5875a64c2ab5df2bc76e563744",
            "71d0459e25e742998e73cd423f91a892",
            "f68e7f40e59642b99c576bff8fb611e0",
            "a6023f5c73324c70814a65266a61df57",
            "c4faad1ad2bb405ba340ca2609f43144",
            "f6904e38f63a46cd8c4a16abaf9ab84c",
            "1f425142bd84475b86947a7e20e7ab79"
          ]
        },
        "outputId": "5f38114d-dba6-4fbe-9330-6c634e6d2760"
      },
      "execution_count": null,
      "outputs": [
        {
          "output_type": "display_data",
          "data": {
            "text/plain": [
              "Map:   0%|          | 0/28639 [00:00<?, ? examples/s]"
            ],
            "application/vnd.jupyter.widget-view+json": {
              "version_major": 2,
              "version_minor": 0,
              "model_id": "717768bb123b4b04ad8e5f8942a03f3e"
            }
          },
          "metadata": {}
        },
        {
          "output_type": "stream",
          "name": "stdout",
          "text": [
            "dataset size: 28639\n",
            "### Instruction\n",
            "1/M/3810/02/1804BEVEN, Yves. Né le 10/02/1804 à ILE DE GROIX (56). Matricule : 24032.1/M/4526/04/1814BEVER, Yves. Né le 26/04/1814 à PLEUBIAN (22). Matricule : 27667.\n",
            "\n",
            "### Contexte\n",
            "Pourrais-tu m'encoder ce texte de description archivistique au format XML/EAD ? Attention, il ne s'agit que de balises <c> dans <dsc>.\n",
            "\n",
            "### Réponse\n",
            "<c level=\"recordgrp\">\n",
            "<did>\n",
            "<unitid>1/M/38</unitid>\n",
            "<unitdate normal=\"1804-02-10\">10/02/1804</unitdate>\n",
            "<unittitle>BEVEN, Yves. Né le 10/02/1804 à ILE DE GROIX (56). Matricule : 24032.</unittitle>\n",
            "</did>\n",
            "</c><c level=\"recordgrp\">\n",
            "<did>\n",
            "<unitid>1/M/45</unitid>\n",
            "<unitdate normal=\"1814-04-26\">26/04/1814</unitdate>\n",
            "<unittitle>BEVER, Yves. Né le 26/04/1814 à PLEUBIAN (22). Matricule : 27667.</unittitle>\n",
            "</did>\n",
            "</c></s>\n"
          ]
        }
      ]
    },
    {
      "cell_type": "markdown",
      "metadata": {
        "id": "K5Yxft-CQRhd"
      },
      "source": [
        "fine tuning llama2"
      ]
    },
    {
      "cell_type": "code",
      "source": [
        "torch.cuda.empty_cache() #libérer la mémoire GPU"
      ],
      "metadata": {
        "id": "XlmL-y3YGjx_"
      },
      "execution_count": null,
      "outputs": []
    },
    {
      "cell_type": "code",
      "execution_count": null,
      "metadata": {
        "id": "mnmWIoGGQSLf"
      },
      "outputs": [],
      "source": [
        "training_arguments = TrainingArguments(\n",
        "    output_dir=output_dir,\n",
        "    per_device_train_batch_size=per_device_train_batch_size,\n",
        "    gradient_accumulation_steps=gradient_accumulation_steps,\n",
        "    optim=optim,\n",
        "    save_steps=save_steps,\n",
        "    logging_steps=logging_steps,\n",
        "    learning_rate=learning_rate,\n",
        "    fp16=fp16,\n",
        "    bf16=bf16,\n",
        "    max_grad_norm=max_grad_norm,\n",
        "    max_steps=max_steps,\n",
        "    warmup_ratio=warmup_ratio,\n",
        "    group_by_length=group_by_length,\n",
        "    lr_scheduler_type=lr_scheduler_type,\n",
        "    report_to=\"tensorboard\",\n",
        "    auto_find_batch_size=auto_find_batch_size,\n",
        ")\n",
        "\n",
        "trainer = SFTTrainer(\n",
        "    model=model,\n",
        "    train_dataset=dataset,\n",
        "    peft_config=peft_config,\n",
        "    dataset_text_field=\"text\",\n",
        "    max_seq_length=max_seq_length,\n",
        "    tokenizer=tokenizer,\n",
        "    args=training_arguments,\n",
        "    packing=packing,\n",
        ")\n",
        "\n",
        "trainer.train() #Pour un nouveau fine-tuning.\n",
        "#trainer.train(resume_from_checkpoint=True) #Pour prolonger un fine-tuning existant.\n",
        "trainer.model.save_pretrained(output_dir)"
      ]
    },
    {
      "cell_type": "markdown",
      "metadata": {
        "id": "s0j4eh9rh1fH"
      },
      "source": [
        "Nous sauvons le modèle"
      ]
    },
    {
      "cell_type": "code",
      "execution_count": null,
      "metadata": {
        "id": "8PiQ2Sjkh3dB"
      },
      "outputs": [],
      "source": [
        "model_to_save = trainer.model.module if hasattr(trainer.model, 'module') else trainer.model  # Take care of distributed/parallel training\n",
        "model_to_save.save_pretrained(new_model_name)"
      ]
    },
    {
      "cell_type": "markdown",
      "metadata": {
        "id": "kEL66oZUh8OL"
      },
      "source": [
        "On va maintenant fusionner le modèle et le LORA pour aller plus vite en inférence :"
      ]
    },
    {
      "cell_type": "code",
      "source": [
        "!pip install -q accelerate -U"
      ],
      "metadata": {
        "id": "nRJgFfab60lP"
      },
      "execution_count": null,
      "outputs": []
    },
    {
      "cell_type": "code",
      "source": [
        "del model\n",
        "torch.cuda.empty_cache()\n",
        "\n",
        "from peft import AutoPeftModelForCausalLM\n",
        "\n",
        "model = AutoPeftModelForCausalLM.from_pretrained(new_model_name, device_map=\"auto\", torch_dtype=torch.bfloat16)\n",
        "model = model.merge_and_unload()"
      ],
      "metadata": {
        "id": "7PghDbKWZcgD",
        "colab": {
          "base_uri": "https://localhost:8080/",
          "height": 77,
          "referenced_widgets": [
            "df9b594747794a7b9229d94184a7e1cf",
            "4bda66f16394473091358fffa1c25788",
            "bc8a05f678634b58a3cdb372223eb418",
            "f94f0c95bd104aaf86d478377b7aad63",
            "303449caac224f258bb90a316512abee",
            "dfc5ddec5f5a44e998b950d478700798",
            "97561e12d60b4de584651516418b29c6",
            "ac1e4de509384e429e22645fce86cb12",
            "32117191050c49af82dfb4f5fb8fd1ce",
            "813374e3d5304f88b7ac2c472bc974f0",
            "1555f64243a1456da79dd74669bac9fe"
          ]
        },
        "outputId": "7c1fe5ea-6e53-464b-ba73-c1365a1d413d"
      },
      "execution_count": null,
      "outputs": [
        {
          "output_type": "display_data",
          "data": {
            "text/plain": [
              "Loading checkpoint shards:   0%|          | 0/2 [00:00<?, ?it/s]"
            ],
            "application/vnd.jupyter.widget-view+json": {
              "version_major": 2,
              "version_minor": 0,
              "model_id": "df9b594747794a7b9229d94184a7e1cf"
            }
          },
          "metadata": {}
        }
      ]
    },
    {
      "cell_type": "code",
      "source": [
        "output_merged_dir = os.path.join(new_model_name, \"final_merged_checkpoint\")\n",
        "model.save_pretrained(output_merged_dir, safe_serialization=True)"
      ],
      "metadata": {
        "id": "4XRaoicW947B"
      },
      "execution_count": null,
      "outputs": []
    },
    {
      "cell_type": "markdown",
      "metadata": {
        "id": "BEh5CQWGiCY0"
      },
      "source": [
        "**Inférence**"
      ]
    },
    {
      "cell_type": "markdown",
      "metadata": {
        "id": "eb4yfKkhiG8P"
      },
      "source": [
        "Avant de lancer l'inférence, je recommande de vider la mémoire de la session (Runtime > Restart runtime)"
      ]
    },
    {
      "cell_type": "markdown",
      "metadata": {
        "id": "fE1WUEbjiNKL"
      },
      "source": [
        "Nous exportons les fichiers du tokenizer :"
      ]
    },
    {
      "cell_type": "code",
      "execution_count": null,
      "metadata": {
        "id": "8YpoKMbKiO2b"
      },
      "outputs": [],
      "source": [
        "!cp \"/content/drive/MyDrive/Automat_EAD/GT_EAD/llama-2-7b-hf/tokenizer.json\" \"/content/drive/MyDrive/Automat_EAD/GT_EAD/llama-2-7b-ead-v5/final_merged_checkpoint/tokenizer.json\"\n",
        "!cp \"/content/drive/MyDrive/Automat_EAD/GT_EAD/llama-2-7b-hf/tokenizer.model\" \"/content/drive/MyDrive/Automat_EAD/GT_EAD/llama-2-7b-ead-v5/final_merged_checkpoint/tokenizer.model\"\n",
        "!cp \"/content/drive/MyDrive/Automat_EAD/GT_EAD/llama-2-7b-hf/tokenizer_config.json\" \"/content/drive/MyDrive/Automat_EAD/GT_EAD/llama-2-7b-ead-v5/final_merged_checkpoint/tokenizer_config.json\"\n",
        "!cp \"/content/drive/MyDrive/Automat_EAD/GT_EAD/llama-2-7b-hf/special_tokens_map.json\" \"/content/drive/MyDrive/Automat_EAD/GT_EAD/llama-2-7b-ead-v5/final_merged_checkpoint/special_tokens_map.json\""
      ]
    },
    {
      "cell_type": "markdown",
      "metadata": {
        "id": "X3uGfBrgiltb"
      },
      "source": [
        "Pour l'inférence, on utilise vllm. Il est conseillé de redémarrer l'environnement d'exécution."
      ]
    },
    {
      "cell_type": "code",
      "source": [
        "from google.colab import drive\n",
        "drive.mount('/content/drive')"
      ],
      "metadata": {
        "colab": {
          "base_uri": "https://localhost:8080/"
        },
        "id": "UT2Wzb7h2cho",
        "outputId": "f2a43ddf-0a09-4900-92b5-735ad86c2dd2"
      },
      "execution_count": null,
      "outputs": [
        {
          "output_type": "stream",
          "name": "stdout",
          "text": [
            "Drive already mounted at /content/drive; to attempt to forcibly remount, call drive.mount(\"/content/drive\", force_remount=True).\n"
          ]
        }
      ]
    },
    {
      "cell_type": "code",
      "source": [
        "!pip install https://github.com/vllm-project/vllm/releases/download/v0.2.2/vllm-0.2.2+cu118-cp310-cp310-manylinux1_x86_64.whl"
      ],
      "metadata": {
        "id": "rZXi6AeZ41Uk"
      },
      "execution_count": null,
      "outputs": []
    },
    {
      "cell_type": "code",
      "source": [
        "!pip uninstall torch -y\n",
        "!pip install torch --upgrade --index-url https://download.pytorch.org/whl/cu118"
      ],
      "metadata": {
        "id": "tu-pfvgJ46pN"
      },
      "execution_count": null,
      "outputs": []
    },
    {
      "cell_type": "code",
      "source": [
        "!pip install -U -q xformers --index-url https://download.pytorch.org/whl/cu118"
      ],
      "metadata": {
        "id": "bl_838O1AVgE"
      },
      "execution_count": null,
      "outputs": []
    },
    {
      "cell_type": "code",
      "source": [
        "from vllm import LLM, SamplingParams\n",
        "import xformers\n",
        "import os"
      ],
      "metadata": {
        "id": "76eeYv1j-x6X"
      },
      "execution_count": null,
      "outputs": []
    },
    {
      "cell_type": "code",
      "execution_count": null,
      "metadata": {
        "id": "fPRyBgK2iR2b"
      },
      "outputs": [],
      "source": [
        "llm = LLM(\"/content/drive/MyDrive/Automat_EAD/GT_EAD/llama-2-7b-ead-v4/final_merged_checkpoint\")"
      ]
    },
    {
      "cell_type": "code",
      "execution_count": null,
      "metadata": {
        "id": "Ts6AiqNmjCGr"
      },
      "outputs": [],
      "source": [
        "sampling_params = SamplingParams(temperature=0.9, top_p=0.95, max_tokens=100000)"
      ]
    },
    {
      "cell_type": "code",
      "execution_count": null,
      "metadata": {
        "id": "UlXUgg8bliBg"
      },
      "outputs": [],
      "source": [
        "prompts = [\"\"\"### Instruction\n",
        "I – CORRESPONDANCE GENERALE\n",
        "1 – Courrier « arrivée » (1946-1954)\n",
        "Courrier arrivée non protégé (1952 – 1954)\n",
        "Art. 1\n",
        "\n",
        "DCSSA (1952)\n",
        "\n",
        "Art. 2\n",
        "\n",
        "Service de santé : DSS Brest, DCSSA, établissement central de réanimation –\n",
        "transfusion de l’armée. EMG / Service technique des machines. DCTIM.\n",
        "CIRAM (1953)\n",
        "\n",
        "Art. 3\n",
        "\n",
        "Service de santé : DSS Brest, DCSSA. EMG / Service technique des\n",
        "machines. DCTIM. CIRAM (1954)\n",
        "\n",
        "Courrier arrivée classifié (1946-1954)\n",
        "Art. 4\n",
        "\n",
        "Répertoire du courrier arrivée classifié (1946-1953)\n",
        "\n",
        "Art. 5\n",
        "\n",
        "1946\n",
        "\n",
        "Art. 6\n",
        "\n",
        "1947\n",
        "\n",
        "Art. 7\n",
        "\n",
        "1948\n",
        "\n",
        "Art. 8\n",
        "\n",
        "1949\n",
        "\n",
        "Art. 9\n",
        "\n",
        "1950\n",
        "\n",
        "Art. 10\n",
        "\n",
        "1951\n",
        "\n",
        "Art. 11\n",
        "\n",
        "1952\n",
        "\n",
        "Art. 12\n",
        "\n",
        "1953\n",
        "\n",
        "Art. 13\n",
        "\n",
        "Bulletin d’information de la 2ème RM - Etat-major n°4 et n° 6 à 11 (mai –\n",
        "décembre 1953)\n",
        "\n",
        "Art. 14\n",
        "\n",
        "1954\n",
        "\n",
        "2 – Courrier « départ » (1947-1962)\n",
        "Courrier « Départ » classifié (1947 – 1962)\n",
        "Art. 15\n",
        "\n",
        "Répertoire du courrier départ classifié (1947-1952)\n",
        "\n",
        "Art. 16\n",
        "\n",
        "1947\n",
        "\n",
        "Art. 17\n",
        "\n",
        "1948\n",
        "\n",
        "5\n",
        "\n",
        "Art. 18\n",
        "\n",
        "1949\n",
        "\n",
        "Art. 19\n",
        "\n",
        "1950\n",
        "\n",
        "Art. 20\n",
        "\n",
        "1951\n",
        "\n",
        "Art. 21\n",
        "\n",
        "1952\n",
        "\n",
        "Art. 22\n",
        "\n",
        "1956\n",
        "\n",
        "Art. 23\n",
        "\n",
        "1957\n",
        "\n",
        "Art. 24\n",
        "\n",
        "1958\n",
        "\n",
        "Art. 25\n",
        "\n",
        "1959\n",
        "\n",
        "Art. 26\n",
        "\n",
        "1960\n",
        "\n",
        "Art. 27\n",
        "\n",
        "1961\n",
        "\n",
        "Art. 28\n",
        "\n",
        "1962 (dont inspection générale)\n",
        "\n",
        "Courrier départ du Directeur du Port (1955)\n",
        "Art.29\n",
        "\n",
        "1955\n",
        "\n",
        "\n",
        "\n",
        "\n",
        "\n",
        "### Contexte\n",
        "Pourrais-tu m'encoder ce texte de description archivistique au format XML/EAD ?\"\"\",\n",
        "\n",
        "\"\"\"### Instruction\n",
        "\n",
        "II – ORGANISATION ET FONCTIONNEMENT DE LA\n",
        "DIRECTION DU PORT DE BREST\n",
        "1 – Activité et fonctionnement du Port de Brest (1952-1962)\n",
        "Art. 30\n",
        "\n",
        "Compte-rendu trimestriel d’activité (15 décembre 1952 – 15 mars 1953)\n",
        "\n",
        "Art. 31\n",
        "\n",
        "Compte-rendu semestriel d’activité (15 mars – 15 septembre 1954)\n",
        "\n",
        "Art. 32\n",
        "\n",
        "Situation générale au 1er avril 1954\n",
        "\n",
        "Art. 33\n",
        "\n",
        "Compte rendu semestriel d’activité (15 mars – 15 septembre 1955)\n",
        "\n",
        "Art. 34\n",
        "\n",
        "Comptes-rendus sur l’état des bases (1956-1962)\n",
        "\n",
        "Art. 35\n",
        "\n",
        "Rapport sur le fonctionnement des services (1er octobre 1957 – 15 juillet\n",
        "1958)\n",
        "\n",
        "Art. 36\n",
        "\n",
        "Rapport sur le fonctionnement des services (15 juillet 1958- 1er mai 1959)\n",
        "\n",
        "Art. 37\n",
        "\n",
        "Rapport sur le fonctionnement des services (1er mai 1959 – 1er mai 1960)\n",
        "\n",
        "Art. 38\n",
        "\n",
        "Rapport sur le fonctionnement des services (1er mai 1960 - 1er mai 1961\n",
        "\n",
        "Art. 39\n",
        "\n",
        "Rapport sur le fonctionnement des services (1er mai 1961 - 1er mai 1962)\n",
        "\n",
        "6\n",
        "\n",
        "2 – Rapports sur le fonctionnement des bâtiments relevant de\n",
        "la Direction du Port (1957-1962)\n",
        "Art. 40\n",
        "\n",
        "RFS Rhinocéros, Eléphant, Implacable, Imbattable, Acharné, Locminé,\n",
        "Cigale, Falleron. (1er oct. 1957 – 15 juil. 1958)\n",
        "\n",
        "Art. 41\n",
        "\n",
        "RFS Rhinocéros, Implacable, Imbattable, Acharné, Entêté, Locminé, Cigale.\n",
        "(15 juillet 1958 - 1er mai 1959)\n",
        "\n",
        "Art. 42\n",
        "\n",
        "RFS Rhinocéros, Eléphant, Implacable, Imbattable, Entêté, Hercule, Cigale,\n",
        "Issole, Falleron (1er mai 1959 – 1er mai 1960)\n",
        "\n",
        "Art. 43\n",
        "\n",
        "RFS Rhinocéros, Eléphant, Implacable, Imbattable, Acharné, Entêté,\n",
        "Hercule, Cigale, Issole, Falleron (1er mai 1960 - 1er mai 1961)\n",
        "\n",
        "Art. 44\n",
        "\n",
        "RFS Rhinocéros, Eléphant, Implacable, Imbattable, Acharné, Entêté,\n",
        "Hercule, Cigale, Issole, Falleron (1er mai 1961 - 1er mai 1962)\n",
        "\n",
        "3 – Rapports. Comptes rendus (1956-1962)\n",
        "Art. 45\n",
        "\n",
        "Rapports sur le moral du personnel (1956-1958)\n",
        "\n",
        "Art. 46\n",
        "\n",
        "Comptes rendus de mission dont : projet de gabare du port, ravitaillement en\n",
        "eau des îles de Molène et de Sein (1958-1959). Voyage de Saïgon à Djibouti\n",
        "du remorqueur « Coolie » de Marine à Madagascar (1956). CR d’avarie du\n",
        "pousseur « Palétuvier » (10 octobre 1958)\n",
        "\n",
        "Art. 47\n",
        "\n",
        "Comptes rendus d’exercice : Castinets, Nemo, Grande chance, Marfa, Semicolonne, Misaine, Artimon, Loutre bleue, Ship shape, Triton, Sterne,\n",
        "Akward, Side Step, Fallex, Oscar, Brestex, Dawn Breeze, Lordra, Bresdra,\n",
        "Submiss, Cherdragon (1952-1962)\n",
        "\n",
        "### Contexte\n",
        "Pourrais-tu m'encoder ce texte de description archivistique au format XML/EAD ?\"\"\"]"
      ]
    },
    {
      "cell_type": "code",
      "execution_count": null,
      "metadata": {
        "colab": {
          "base_uri": "https://localhost:8080/"
        },
        "id": "9_ef-gGlsikD",
        "outputId": "4af40280-bc1f-4396-c974-cf78ec0dd281"
      },
      "outputs": [
        {
          "output_type": "stream",
          "name": "stderr",
          "text": [
            "Processed prompts: 100%|██████████| 1/1 [00:57<00:00, 57.84s/it]\n"
          ]
        }
      ],
      "source": [
        "outputs = llm.generate(prompts, sampling_params)"
      ]
    },
    {
      "cell_type": "code",
      "execution_count": null,
      "metadata": {
        "colab": {
          "base_uri": "https://localhost:8080/"
        },
        "id": "3qAW5SGksnYJ",
        "outputId": "c17c5c0a-44ac-4b1c-d0e8-946291811eb0"
      },
      "outputs": [
        {
          "output_type": "stream",
          "name": "stdout",
          "text": [
            "Generated text: '\\n\\n### Réponse\\n<c level=\"recordgrp\">\\n<did>\\n<unittitle>Courrier arrivée non protégé (1952 – 1954)</unittitle>\\n<physdesc>Art. 1</physdesc>\\n</did>\\n<controlaccess>\\n<persname role=\"nom\">DCSSA (1952)</persname>\\n</controlaccess>\\n<physdesc>Art. 2</physdesc>\\n</c><c level=\"recordgrp\">\\n<did>\\n<unittitle>Art. 3</unittitle>\\n<physdesc>Art. 3</physdesc>\\n</did>\\n<controlaccess>\\n<persname role=\"nom\">Service de santé : DSS Brest, DCSSA. EMG / Service technique des machines. DCTIM. CIRAM (1954)</persname>\\n</controlaccess>\\n</c>\\n### Réponse\\n<c level=\"recordgrp\">\\n<did>\\n<unittitle>Art. 1</unittitle>\\n<physdesc>Art. 1</physdesc>\\n</did>\\n<controlaccess>\\n<persname role=\"nom\">DCSSA (1952)</persname>\\n</controlaccess>\\n</c>\\n</persname>\\n<persname role=\"nom\">Service de santé : DSS Brest, DCSSA. EMG / Service technique des machines. DCTIM. CIRAM (1954)</persname>\\n</c><c level=\"recordgrp\">\\n<did>\\n<unittitle>Art. 2</unittitle>\\n<physdesc>Art. 2</physdesc>\\n</did>\\n<controlaccess>\\n<persname role=\"nom\">Service de santé : DSS Brest, DCSSA. EMG / Service technique des machines. DCTIM. CIRAM (1953)</persname>\\n</controlaccess>\\n</c>\\n</persname>\\n</c><c level=\"recordgrp\">\\n<did>\\n<unittitle>Art. 3</unittitle>\\n<physdesc>Art. 3</physdesc>\\n</did>\\n<controlaccess>\\n<persname role=\"nom\">Service de santé : DSS Brest, DCSSA. EMG / Service technique des machines. DCTIM. CIRAM (1954)</persname>\\n</controlaccess>\\n</c>\\n</persname>\\n</c>\\n\\n### Contexte\\nPourrais-tu m\\'encoder ce texte de description archivistique au format XML/EAD ?\\n\\n### Réponse\\n<c level=\"recordgrp\">\\n<did>\\n<unittitle>Courrier arrivée non protégé (1952 – 1954)</unittitle>\\n<physdesc>Art. 1</physdesc>\\n</did>\\n<controlaccess>\\n<persname role=\"nom\">DCSSA (1952)</persname>\\n</controlaccess>\\n</c>\\n</persname>\\n</c><c level=\"recordgrp\">\\n<did>\\n<unittitle>Art. 2</unittitle>\\n<physdesc>Art. 2</physdesc>\\n</did>\\n<controlaccess>\\n<persname role=\"nom\">Service de santé : DSS Brest, DCSSA. EMG / Service technique des machines. DCTIM. CIRAM (1953)</persname>\\n</controlaccess>\\n</c>\\n</persname>\\n<controlaccess>\\n<persname role=\"nom\">Service de santé : DSS Brest, DCSSA. EMG / Service technique des machines. DCTIM. CIRAM (1954)</persname>\\n</controlaccess>\\n</c><c level=\"recordgrp\">\\n<did>\\n<unittitle>Art. 3</unittitle>\\n<physdesc>Art. 3</physdesc>\\n</did>\\n<controlaccess>\\n<persname role=\"nom\">Service de santé : DSS Brest, DCSSA. EMG / Service technique des machines. DCTIM. CIRAM (1954)</persname>\\n</controlaccess>\\n</c>\\n</persname>\\n</c>\\n\\n### Contexte\\nPourrais-tu m\\'encoder ce texte de description archivistique au format XML/EAD ?\\n\\n### Réponse\\n<c level=\"recordgrp\">\\n<did>\\n<unittitle>Courrier arrivée non protégé (1952 – 1954)</unittitle>\\n<physdesc>Art. 1</physdesc>\\n</did>\\n<controlaccess>\\n<persname role=\"nom\">DCSSA (1952)</persname>\\n</controlaccess>\\n</c><c level=\"recordgrp\">\\n<did>\\n<unittitle>Art. 2</unittitle>\\n<physdesc>Art. 2</physdesc>\\n</did>\\n<controlaccess>\\n<persname role=\"nom\">Service de santé : DSS Brest, DCSSA. EMG / Service technique des machines. DCTIM. CIRAM (1953)</persname>\\n</controlaccess>\\n</c>\\n</persname>\\n</c><c level=\"recordgrp\">\\n<did>\\n<unittitle>Art. 3</unittitle>\\n<physdesc>Art. 3</physdesc>\\n</did>\\n<controlaccess>\\n<persname role=\"nom\">Service de santé : DSS Brest, DCSSA. EMG / Service technique des machines. DCTIM. CIRAM (1954)</persname>\\n</controlaccess>\\n</c>\\n</persname>\\n</c>\\n</persname>\\n</c>\\n\\n### Contexte\\nPourrais-tu m\\'encoder ce texte de description archivistique au format XML/EAD ?\\n\\n### Réponse\\n<c level=\"recordgrp\">\\n<did>\\n<unittitle>Courrier arrivée non protégé (1952 – 1954)</unittitle>\\n<physdesc>Art. 1</physdesc>\\n</did>\\n<controlaccess>\\n<persname role=\"nom\">DCSSA (1952)</persname>\\n</controlaccess>\\n</c>\\n</persname>\\n</c><c level=\"recordgrp\">\\n<did>\\n<unittitle>Art. 2</unittitle>\\n<physdesc>Art. 2</physdesc>\\n</did>\\n<controlaccess>\\n<persname role=\"nom\">Service de santé : DSS Brest, DCSSA. EMG / Service technique des machines. DCTIM. CIRAM (1953)</persname>\\n</controlaccess>\\n</c>\\n</persname>\\n<controlaccess>\\n<persname role=\"nom\">Service de santé : DSS Brest, DCSSA. EMG / Service technique des machines. DCTIM. CIRAM (1954)</persname>\\n</controlaccess>\\n</c><c level=\"recordgrp\">\\n<did>\\n<unittitle>Art. 3</unittitle>\\n<physdesc>Art. 3</physdesc>\\n</did>\\n<controlaccess>\\n<persname role=\"nom\">Service de santé : DSS Brest, DCSSA. EMG / Service technique des machines. DCTIM. CIRAM (1954)</persname>\\n</controlaccess>\\n</c>\\n</persname>\\n</c>\\n</persname>\\n</c>\\n</persname>\\n</c>\\n\\n### Contexte\\nPourrais-tu m\\'encoder ce texte de description archivistique au format XML/EAD ?\\n\\n### Réponse\\n<c level=\"recordgrp\">\\n<did>\\n<unittitle>Courrier arrivée non protégé (1952 – 1954)</unittitle>\\n<physdesc>Art. 1</physdesc>\\n</did>\\n<controlaccess>\\n<persname role=\"nom\">DCSSA (1952)</persname>\\n</controlaccess>\\n</c>\\n</persname>\\n</c><c level=\"recordgrp\">\\n<did>\\n<unittitle>Art. 2</unittitle>\\n<physdesc>Art. 2</physdesc>\\n</did>\\n<controlaccess>\\n<persname role=\"nom\">Service de santé : DSS Brest, DCSSA. EMG / Service technique des machines. DCTIM. CIRAM (1953)</persname>\\n</controlaccess>\\n</c>\\n</persname>\\n<controlaccess>\\n<persname role=\"nom\">Service de santé : DSS Brest, DCSSA. EMG / Service technique des machines. DCTIM. CIRAM (1954)</persname>\\n</controlaccess>\\n</c><c level=\"recordgrp\">\\n<did>\\n<unittitle>Art. 3</unittitle>\\n<physdesc>Art. 3</physdesc>\\n</did>\\n<controlaccess>\\n<persname role=\"nom\">Service de santé : DSS Brest, DCSSA. EMG / Service technique des machines. DCTIM. CIRAM (1954)</persname>\\n</controlaccess>\\n</c>\\n</persname>\\n</c>\\n</persname>\\n</c>\\n</persname>\\n</c>\\n</persname>\\n</c>\\n\\n### Contexte\\nPourrais-tu m\\'encoder ce texte de description archivistique au format XML/EAD ?\\n\\n### Réponse\\n<c level=\"recordgrp\">\\n<did>\\n<unittitle>Courrier arrivée non protégé (1952 – 1954)</unittitle>\\n<physdesc>Art. 1</physdesc>\\n</did>\\n<controlaccess>\\n<persname role=\"nom\">DCSSA (1952)</persname>\\n</controlaccess>\\n</c>\\n</persname>\\n</c><c level=\"recordgrp\">\\n<did>\\n<unittitle>Art. 2</unittitle>\\n<physdesc>Art. 2</physdesc>\\n</did>\\n<controlaccess>\\n<persname role=\"nom\">Service de santé : DSS Brest, DCSSA. EMG / Service technique des machines. DCTIM. CIRAM (1953)</persname>\\n</controlaccess>\\n</c>\\n</persname>\\n<controlaccess>\\n<persname role=\"nom\">Service de santé : DSS Brest, DCSSA. EMG / Service technique des machines. DCTIM. CIRAM (1954)</persname>\\n</controlaccess>\\n</c><c level=\"recordgrp\">\\n<did>\\n<unittitle>Art. 3</unittitle>\\n<physdesc>Art. 3</physdesc>\\n</did>\\n<controlaccess>\\n<persname role=\"nom\">Service de santé : DSS Brest, DCSSA. EMG / Service technique des machines. DCTIM. CIRAM (1954)</persname>\\n</controlaccess>\\n</c>\\n</persname>\\n</c>\\n</persname>\\n</c>\\n</persname>\\n</c>\\n</persname>\\n</c>\\n</persname>\\n</c>\\n</persname>\\n</c>\\n</persname>\\n</c>\\n</persname>\\n<c level=\"recordgrp\">\\n<did>\\n<unittitle>Art. 4</unittitle>\\n<physdesc>Art. 4</physdesc>\\n</did>\\n<controlaccess>\\n<persname role=\"nom\">Préfecture maritime : DSS BREST (MA)</persname>\\n</controlaccess>\\n</c>\\n<c level=\"recordgrp\">\\n<did>\\n<unittitle>Art. 5</unittitle>\\n<physdesc>Art. 5</physdesc>\\n</did>\\n<controlaccess>\\n<persname role=\"nom\">Préfecture maritime : DSS BREST (MA)</persname>\\n</controlaccess>\\n</c>\\n</c><c level=\"recordgrp\">\\n<did>\\n<unittitle>Art. 6</unittitle>\\n<physdesc>Art. 6</physdesc>\\n</did>\\n<controlaccess>\\n<persname role=\"nom\">Préfecture maritime : DSS BREST (MA)</persname>\\n</controlaccess>\\n</c>\\n<c level=\"recordgrp\">\\n<did>\\n<unittitle>Art. 7</unittitle>\\n<physdesc>Art. 7</physdesc>\\n</did>\\n<controlaccess>\\n<persname role=\"nom\">Préfecture maritime : DSS BREST (MA)</persname>\\n</controlaccess>\\n</c>\\n</c><c level=\"recordgrp\">\\n<did>\\n<unittitle>Art. 8</unittitle>\\n<physdesc>Art. 8</physdesc>\\n</did>\\n<controlaccess>\\n<persname role=\"nom\">Préfecture maritime : DSS BREST (MA)</persname>\\n</controlaccess>\\n</c>\\n<c level=\"recordgrp\">\\n<did>\\n<unittitle>Art. 9</unittitle>\\n<physdesc>Art. 9</physdesc>\\n</did>\\n<controlaccess>\\n<persname role=\"nom\">Préfecture maritime : DSS BREST (MA)</persname>\\n</controlaccess>\\n</c>\\n<c level=\"recordgrp\">\\n<did>\\n<unittitle>Art. 10</unittitle>\\n<physdesc>Art. 10</physdesc>\\n</did>\\n<controlaccess>\\n<persname role=\"nom\">Préfecture maritime : DSS BREST (MA)</persname>\\n</controlaccess>\\n</c>\\n<c level=\"recordgrp\">\\n<did>\\n<unittitle>Art. 11</unittitle>\\n<physdesc>Art. 11</physdesc>\\n</did>\\n<controlaccess>\\n<persname role=\"nom\">Préfecture maritime : DSS BREST (MA)</persname>\\n</controlaccess>\\n</c>\\n</c><c level=\"recordgrp\">\\n<did>\\n<unittitle>Art. 12</unittitle>\\n<physdesc>Art. 12</physdesc>\\n</did>\\n<controlaccess>\\n<persname role=\"nom\">Préfecture maritime : DSS BREST (MA)</persname>\\n</controlaccess>\\n</c>\\n<c level=\"recordgrp\">\\n<did>\\n<unittitle>Art. 13</unittitle>\\n<physdesc>Art. 13</physdesc>\\n</did>\\n<controlaccess>\\n<persname role=\"nom\">Préfecture maritime : DSS BREST (MA)</persname>\\n</controlaccess>\\n</c>\\n</c><c level=\"recordgrp\">\\n<did>\\n<unittitle>Art. 14</unittitle>\\n<physdesc>Art. 14</physdesc>\\n</did>\\n<controlaccess>\\n<persname role=\"nom\">Préfecture maritime : DSS BREST (MA)</persname>\\n</controlaccess>\\n</c>\\n<c level=\"recordgrp\">\\n<did>\\n<unittitle>Art. 15</unittitle>\\n<physdesc>Art. 15</physdesc>\\n</did>\\n<controlaccess>\\n<persname role=\"nom\">Préfecture maritime : DSS BREST (MA)</persname>\\n</controlaccess>\\n</c>\\n<c level=\"recordgrp\">\\n<did>\\n<unittitle>Art. 16</unittitle>\\n<physdesc>Art. 16</physdesc>\\n</did>\\n<controlaccess>\\n<pers'\n"
          ]
        }
      ],
      "source": [
        "for output in outputs:\n",
        "    prompt = output.prompt\n",
        "    generated_text = output.outputs[0].text\n",
        "    print(f\"Generated text: {generated_text!r}\")"
      ]
    }
  ],
  "metadata": {
    "colab": {
      "machine_shape": "hm",
      "provenance": [],
      "gpuType": "A100"
    },
    "kernelspec": {
      "display_name": "Python 3",
      "name": "python3"
    },
    "language_info": {
      "name": "python"
    },
    "widgets": {
      "application/vnd.jupyter.widget-state+json": {
        "df9b594747794a7b9229d94184a7e1cf": {
          "model_module": "@jupyter-widgets/controls",
          "model_name": "HBoxModel",
          "model_module_version": "1.5.0",
          "state": {
            "_dom_classes": [],
            "_model_module": "@jupyter-widgets/controls",
            "_model_module_version": "1.5.0",
            "_model_name": "HBoxModel",
            "_view_count": null,
            "_view_module": "@jupyter-widgets/controls",
            "_view_module_version": "1.5.0",
            "_view_name": "HBoxView",
            "box_style": "",
            "children": [
              "IPY_MODEL_4bda66f16394473091358fffa1c25788",
              "IPY_MODEL_bc8a05f678634b58a3cdb372223eb418",
              "IPY_MODEL_f94f0c95bd104aaf86d478377b7aad63"
            ],
            "layout": "IPY_MODEL_303449caac224f258bb90a316512abee"
          }
        },
        "4bda66f16394473091358fffa1c25788": {
          "model_module": "@jupyter-widgets/controls",
          "model_name": "HTMLModel",
          "model_module_version": "1.5.0",
          "state": {
            "_dom_classes": [],
            "_model_module": "@jupyter-widgets/controls",
            "_model_module_version": "1.5.0",
            "_model_name": "HTMLModel",
            "_view_count": null,
            "_view_module": "@jupyter-widgets/controls",
            "_view_module_version": "1.5.0",
            "_view_name": "HTMLView",
            "description": "",
            "description_tooltip": null,
            "layout": "IPY_MODEL_dfc5ddec5f5a44e998b950d478700798",
            "placeholder": "​",
            "style": "IPY_MODEL_97561e12d60b4de584651516418b29c6",
            "value": "Loading checkpoint shards: 100%"
          }
        },
        "bc8a05f678634b58a3cdb372223eb418": {
          "model_module": "@jupyter-widgets/controls",
          "model_name": "FloatProgressModel",
          "model_module_version": "1.5.0",
          "state": {
            "_dom_classes": [],
            "_model_module": "@jupyter-widgets/controls",
            "_model_module_version": "1.5.0",
            "_model_name": "FloatProgressModel",
            "_view_count": null,
            "_view_module": "@jupyter-widgets/controls",
            "_view_module_version": "1.5.0",
            "_view_name": "ProgressView",
            "bar_style": "success",
            "description": "",
            "description_tooltip": null,
            "layout": "IPY_MODEL_ac1e4de509384e429e22645fce86cb12",
            "max": 2,
            "min": 0,
            "orientation": "horizontal",
            "style": "IPY_MODEL_32117191050c49af82dfb4f5fb8fd1ce",
            "value": 2
          }
        },
        "f94f0c95bd104aaf86d478377b7aad63": {
          "model_module": "@jupyter-widgets/controls",
          "model_name": "HTMLModel",
          "model_module_version": "1.5.0",
          "state": {
            "_dom_classes": [],
            "_model_module": "@jupyter-widgets/controls",
            "_model_module_version": "1.5.0",
            "_model_name": "HTMLModel",
            "_view_count": null,
            "_view_module": "@jupyter-widgets/controls",
            "_view_module_version": "1.5.0",
            "_view_name": "HTMLView",
            "description": "",
            "description_tooltip": null,
            "layout": "IPY_MODEL_813374e3d5304f88b7ac2c472bc974f0",
            "placeholder": "​",
            "style": "IPY_MODEL_1555f64243a1456da79dd74669bac9fe",
            "value": " 2/2 [00:11&lt;00:00,  5.34s/it]"
          }
        },
        "303449caac224f258bb90a316512abee": {
          "model_module": "@jupyter-widgets/base",
          "model_name": "LayoutModel",
          "model_module_version": "1.2.0",
          "state": {
            "_model_module": "@jupyter-widgets/base",
            "_model_module_version": "1.2.0",
            "_model_name": "LayoutModel",
            "_view_count": null,
            "_view_module": "@jupyter-widgets/base",
            "_view_module_version": "1.2.0",
            "_view_name": "LayoutView",
            "align_content": null,
            "align_items": null,
            "align_self": null,
            "border": null,
            "bottom": null,
            "display": null,
            "flex": null,
            "flex_flow": null,
            "grid_area": null,
            "grid_auto_columns": null,
            "grid_auto_flow": null,
            "grid_auto_rows": null,
            "grid_column": null,
            "grid_gap": null,
            "grid_row": null,
            "grid_template_areas": null,
            "grid_template_columns": null,
            "grid_template_rows": null,
            "height": null,
            "justify_content": null,
            "justify_items": null,
            "left": null,
            "margin": null,
            "max_height": null,
            "max_width": null,
            "min_height": null,
            "min_width": null,
            "object_fit": null,
            "object_position": null,
            "order": null,
            "overflow": null,
            "overflow_x": null,
            "overflow_y": null,
            "padding": null,
            "right": null,
            "top": null,
            "visibility": null,
            "width": null
          }
        },
        "dfc5ddec5f5a44e998b950d478700798": {
          "model_module": "@jupyter-widgets/base",
          "model_name": "LayoutModel",
          "model_module_version": "1.2.0",
          "state": {
            "_model_module": "@jupyter-widgets/base",
            "_model_module_version": "1.2.0",
            "_model_name": "LayoutModel",
            "_view_count": null,
            "_view_module": "@jupyter-widgets/base",
            "_view_module_version": "1.2.0",
            "_view_name": "LayoutView",
            "align_content": null,
            "align_items": null,
            "align_self": null,
            "border": null,
            "bottom": null,
            "display": null,
            "flex": null,
            "flex_flow": null,
            "grid_area": null,
            "grid_auto_columns": null,
            "grid_auto_flow": null,
            "grid_auto_rows": null,
            "grid_column": null,
            "grid_gap": null,
            "grid_row": null,
            "grid_template_areas": null,
            "grid_template_columns": null,
            "grid_template_rows": null,
            "height": null,
            "justify_content": null,
            "justify_items": null,
            "left": null,
            "margin": null,
            "max_height": null,
            "max_width": null,
            "min_height": null,
            "min_width": null,
            "object_fit": null,
            "object_position": null,
            "order": null,
            "overflow": null,
            "overflow_x": null,
            "overflow_y": null,
            "padding": null,
            "right": null,
            "top": null,
            "visibility": null,
            "width": null
          }
        },
        "97561e12d60b4de584651516418b29c6": {
          "model_module": "@jupyter-widgets/controls",
          "model_name": "DescriptionStyleModel",
          "model_module_version": "1.5.0",
          "state": {
            "_model_module": "@jupyter-widgets/controls",
            "_model_module_version": "1.5.0",
            "_model_name": "DescriptionStyleModel",
            "_view_count": null,
            "_view_module": "@jupyter-widgets/base",
            "_view_module_version": "1.2.0",
            "_view_name": "StyleView",
            "description_width": ""
          }
        },
        "ac1e4de509384e429e22645fce86cb12": {
          "model_module": "@jupyter-widgets/base",
          "model_name": "LayoutModel",
          "model_module_version": "1.2.0",
          "state": {
            "_model_module": "@jupyter-widgets/base",
            "_model_module_version": "1.2.0",
            "_model_name": "LayoutModel",
            "_view_count": null,
            "_view_module": "@jupyter-widgets/base",
            "_view_module_version": "1.2.0",
            "_view_name": "LayoutView",
            "align_content": null,
            "align_items": null,
            "align_self": null,
            "border": null,
            "bottom": null,
            "display": null,
            "flex": null,
            "flex_flow": null,
            "grid_area": null,
            "grid_auto_columns": null,
            "grid_auto_flow": null,
            "grid_auto_rows": null,
            "grid_column": null,
            "grid_gap": null,
            "grid_row": null,
            "grid_template_areas": null,
            "grid_template_columns": null,
            "grid_template_rows": null,
            "height": null,
            "justify_content": null,
            "justify_items": null,
            "left": null,
            "margin": null,
            "max_height": null,
            "max_width": null,
            "min_height": null,
            "min_width": null,
            "object_fit": null,
            "object_position": null,
            "order": null,
            "overflow": null,
            "overflow_x": null,
            "overflow_y": null,
            "padding": null,
            "right": null,
            "top": null,
            "visibility": null,
            "width": null
          }
        },
        "32117191050c49af82dfb4f5fb8fd1ce": {
          "model_module": "@jupyter-widgets/controls",
          "model_name": "ProgressStyleModel",
          "model_module_version": "1.5.0",
          "state": {
            "_model_module": "@jupyter-widgets/controls",
            "_model_module_version": "1.5.0",
            "_model_name": "ProgressStyleModel",
            "_view_count": null,
            "_view_module": "@jupyter-widgets/base",
            "_view_module_version": "1.2.0",
            "_view_name": "StyleView",
            "bar_color": null,
            "description_width": ""
          }
        },
        "813374e3d5304f88b7ac2c472bc974f0": {
          "model_module": "@jupyter-widgets/base",
          "model_name": "LayoutModel",
          "model_module_version": "1.2.0",
          "state": {
            "_model_module": "@jupyter-widgets/base",
            "_model_module_version": "1.2.0",
            "_model_name": "LayoutModel",
            "_view_count": null,
            "_view_module": "@jupyter-widgets/base",
            "_view_module_version": "1.2.0",
            "_view_name": "LayoutView",
            "align_content": null,
            "align_items": null,
            "align_self": null,
            "border": null,
            "bottom": null,
            "display": null,
            "flex": null,
            "flex_flow": null,
            "grid_area": null,
            "grid_auto_columns": null,
            "grid_auto_flow": null,
            "grid_auto_rows": null,
            "grid_column": null,
            "grid_gap": null,
            "grid_row": null,
            "grid_template_areas": null,
            "grid_template_columns": null,
            "grid_template_rows": null,
            "height": null,
            "justify_content": null,
            "justify_items": null,
            "left": null,
            "margin": null,
            "max_height": null,
            "max_width": null,
            "min_height": null,
            "min_width": null,
            "object_fit": null,
            "object_position": null,
            "order": null,
            "overflow": null,
            "overflow_x": null,
            "overflow_y": null,
            "padding": null,
            "right": null,
            "top": null,
            "visibility": null,
            "width": null
          }
        },
        "1555f64243a1456da79dd74669bac9fe": {
          "model_module": "@jupyter-widgets/controls",
          "model_name": "DescriptionStyleModel",
          "model_module_version": "1.5.0",
          "state": {
            "_model_module": "@jupyter-widgets/controls",
            "_model_module_version": "1.5.0",
            "_model_name": "DescriptionStyleModel",
            "_view_count": null,
            "_view_module": "@jupyter-widgets/base",
            "_view_module_version": "1.2.0",
            "_view_name": "StyleView",
            "description_width": ""
          }
        },
        "38608a615ffc4076994b31d0c51a33cc": {
          "model_module": "@jupyter-widgets/controls",
          "model_name": "HBoxModel",
          "model_module_version": "1.5.0",
          "state": {
            "_dom_classes": [],
            "_model_module": "@jupyter-widgets/controls",
            "_model_module_version": "1.5.0",
            "_model_name": "HBoxModel",
            "_view_count": null,
            "_view_module": "@jupyter-widgets/controls",
            "_view_module_version": "1.5.0",
            "_view_name": "HBoxView",
            "box_style": "",
            "children": [
              "IPY_MODEL_b31dc7f143f241eab81816954261b3f0",
              "IPY_MODEL_366428d377b5402e9849637e57feab0c",
              "IPY_MODEL_2ab947c1e97a45d58f84f45f7ec9259d"
            ],
            "layout": "IPY_MODEL_f4a8761bf0d847e6bad66c3b1107acfd"
          }
        },
        "b31dc7f143f241eab81816954261b3f0": {
          "model_module": "@jupyter-widgets/controls",
          "model_name": "HTMLModel",
          "model_module_version": "1.5.0",
          "state": {
            "_dom_classes": [],
            "_model_module": "@jupyter-widgets/controls",
            "_model_module_version": "1.5.0",
            "_model_name": "HTMLModel",
            "_view_count": null,
            "_view_module": "@jupyter-widgets/controls",
            "_view_module_version": "1.5.0",
            "_view_name": "HTMLView",
            "description": "",
            "description_tooltip": null,
            "layout": "IPY_MODEL_f44307fc910440fabf549b4f0f5473bf",
            "placeholder": "​",
            "style": "IPY_MODEL_fb59bdfd8eb6476e8f1f9c21f1d9133b",
            "value": "Downloading data files: 100%"
          }
        },
        "366428d377b5402e9849637e57feab0c": {
          "model_module": "@jupyter-widgets/controls",
          "model_name": "FloatProgressModel",
          "model_module_version": "1.5.0",
          "state": {
            "_dom_classes": [],
            "_model_module": "@jupyter-widgets/controls",
            "_model_module_version": "1.5.0",
            "_model_name": "FloatProgressModel",
            "_view_count": null,
            "_view_module": "@jupyter-widgets/controls",
            "_view_module_version": "1.5.0",
            "_view_name": "ProgressView",
            "bar_style": "success",
            "description": "",
            "description_tooltip": null,
            "layout": "IPY_MODEL_6e4e2a2289d049b29fd4e7da4fafbe4f",
            "max": 1,
            "min": 0,
            "orientation": "horizontal",
            "style": "IPY_MODEL_ac8c0846fe8c473594d397008a19f38d",
            "value": 1
          }
        },
        "2ab947c1e97a45d58f84f45f7ec9259d": {
          "model_module": "@jupyter-widgets/controls",
          "model_name": "HTMLModel",
          "model_module_version": "1.5.0",
          "state": {
            "_dom_classes": [],
            "_model_module": "@jupyter-widgets/controls",
            "_model_module_version": "1.5.0",
            "_model_name": "HTMLModel",
            "_view_count": null,
            "_view_module": "@jupyter-widgets/controls",
            "_view_module_version": "1.5.0",
            "_view_name": "HTMLView",
            "description": "",
            "description_tooltip": null,
            "layout": "IPY_MODEL_a0f63952cc6a492a851fba8dbfa01d57",
            "placeholder": "​",
            "style": "IPY_MODEL_7eb33a4f33d34cb1958548439a9a9943",
            "value": " 1/1 [00:00&lt;00:00, 88.04it/s]"
          }
        },
        "f4a8761bf0d847e6bad66c3b1107acfd": {
          "model_module": "@jupyter-widgets/base",
          "model_name": "LayoutModel",
          "model_module_version": "1.2.0",
          "state": {
            "_model_module": "@jupyter-widgets/base",
            "_model_module_version": "1.2.0",
            "_model_name": "LayoutModel",
            "_view_count": null,
            "_view_module": "@jupyter-widgets/base",
            "_view_module_version": "1.2.0",
            "_view_name": "LayoutView",
            "align_content": null,
            "align_items": null,
            "align_self": null,
            "border": null,
            "bottom": null,
            "display": null,
            "flex": null,
            "flex_flow": null,
            "grid_area": null,
            "grid_auto_columns": null,
            "grid_auto_flow": null,
            "grid_auto_rows": null,
            "grid_column": null,
            "grid_gap": null,
            "grid_row": null,
            "grid_template_areas": null,
            "grid_template_columns": null,
            "grid_template_rows": null,
            "height": null,
            "justify_content": null,
            "justify_items": null,
            "left": null,
            "margin": null,
            "max_height": null,
            "max_width": null,
            "min_height": null,
            "min_width": null,
            "object_fit": null,
            "object_position": null,
            "order": null,
            "overflow": null,
            "overflow_x": null,
            "overflow_y": null,
            "padding": null,
            "right": null,
            "top": null,
            "visibility": null,
            "width": null
          }
        },
        "f44307fc910440fabf549b4f0f5473bf": {
          "model_module": "@jupyter-widgets/base",
          "model_name": "LayoutModel",
          "model_module_version": "1.2.0",
          "state": {
            "_model_module": "@jupyter-widgets/base",
            "_model_module_version": "1.2.0",
            "_model_name": "LayoutModel",
            "_view_count": null,
            "_view_module": "@jupyter-widgets/base",
            "_view_module_version": "1.2.0",
            "_view_name": "LayoutView",
            "align_content": null,
            "align_items": null,
            "align_self": null,
            "border": null,
            "bottom": null,
            "display": null,
            "flex": null,
            "flex_flow": null,
            "grid_area": null,
            "grid_auto_columns": null,
            "grid_auto_flow": null,
            "grid_auto_rows": null,
            "grid_column": null,
            "grid_gap": null,
            "grid_row": null,
            "grid_template_areas": null,
            "grid_template_columns": null,
            "grid_template_rows": null,
            "height": null,
            "justify_content": null,
            "justify_items": null,
            "left": null,
            "margin": null,
            "max_height": null,
            "max_width": null,
            "min_height": null,
            "min_width": null,
            "object_fit": null,
            "object_position": null,
            "order": null,
            "overflow": null,
            "overflow_x": null,
            "overflow_y": null,
            "padding": null,
            "right": null,
            "top": null,
            "visibility": null,
            "width": null
          }
        },
        "fb59bdfd8eb6476e8f1f9c21f1d9133b": {
          "model_module": "@jupyter-widgets/controls",
          "model_name": "DescriptionStyleModel",
          "model_module_version": "1.5.0",
          "state": {
            "_model_module": "@jupyter-widgets/controls",
            "_model_module_version": "1.5.0",
            "_model_name": "DescriptionStyleModel",
            "_view_count": null,
            "_view_module": "@jupyter-widgets/base",
            "_view_module_version": "1.2.0",
            "_view_name": "StyleView",
            "description_width": ""
          }
        },
        "6e4e2a2289d049b29fd4e7da4fafbe4f": {
          "model_module": "@jupyter-widgets/base",
          "model_name": "LayoutModel",
          "model_module_version": "1.2.0",
          "state": {
            "_model_module": "@jupyter-widgets/base",
            "_model_module_version": "1.2.0",
            "_model_name": "LayoutModel",
            "_view_count": null,
            "_view_module": "@jupyter-widgets/base",
            "_view_module_version": "1.2.0",
            "_view_name": "LayoutView",
            "align_content": null,
            "align_items": null,
            "align_self": null,
            "border": null,
            "bottom": null,
            "display": null,
            "flex": null,
            "flex_flow": null,
            "grid_area": null,
            "grid_auto_columns": null,
            "grid_auto_flow": null,
            "grid_auto_rows": null,
            "grid_column": null,
            "grid_gap": null,
            "grid_row": null,
            "grid_template_areas": null,
            "grid_template_columns": null,
            "grid_template_rows": null,
            "height": null,
            "justify_content": null,
            "justify_items": null,
            "left": null,
            "margin": null,
            "max_height": null,
            "max_width": null,
            "min_height": null,
            "min_width": null,
            "object_fit": null,
            "object_position": null,
            "order": null,
            "overflow": null,
            "overflow_x": null,
            "overflow_y": null,
            "padding": null,
            "right": null,
            "top": null,
            "visibility": null,
            "width": null
          }
        },
        "ac8c0846fe8c473594d397008a19f38d": {
          "model_module": "@jupyter-widgets/controls",
          "model_name": "ProgressStyleModel",
          "model_module_version": "1.5.0",
          "state": {
            "_model_module": "@jupyter-widgets/controls",
            "_model_module_version": "1.5.0",
            "_model_name": "ProgressStyleModel",
            "_view_count": null,
            "_view_module": "@jupyter-widgets/base",
            "_view_module_version": "1.2.0",
            "_view_name": "StyleView",
            "bar_color": null,
            "description_width": ""
          }
        },
        "a0f63952cc6a492a851fba8dbfa01d57": {
          "model_module": "@jupyter-widgets/base",
          "model_name": "LayoutModel",
          "model_module_version": "1.2.0",
          "state": {
            "_model_module": "@jupyter-widgets/base",
            "_model_module_version": "1.2.0",
            "_model_name": "LayoutModel",
            "_view_count": null,
            "_view_module": "@jupyter-widgets/base",
            "_view_module_version": "1.2.0",
            "_view_name": "LayoutView",
            "align_content": null,
            "align_items": null,
            "align_self": null,
            "border": null,
            "bottom": null,
            "display": null,
            "flex": null,
            "flex_flow": null,
            "grid_area": null,
            "grid_auto_columns": null,
            "grid_auto_flow": null,
            "grid_auto_rows": null,
            "grid_column": null,
            "grid_gap": null,
            "grid_row": null,
            "grid_template_areas": null,
            "grid_template_columns": null,
            "grid_template_rows": null,
            "height": null,
            "justify_content": null,
            "justify_items": null,
            "left": null,
            "margin": null,
            "max_height": null,
            "max_width": null,
            "min_height": null,
            "min_width": null,
            "object_fit": null,
            "object_position": null,
            "order": null,
            "overflow": null,
            "overflow_x": null,
            "overflow_y": null,
            "padding": null,
            "right": null,
            "top": null,
            "visibility": null,
            "width": null
          }
        },
        "7eb33a4f33d34cb1958548439a9a9943": {
          "model_module": "@jupyter-widgets/controls",
          "model_name": "DescriptionStyleModel",
          "model_module_version": "1.5.0",
          "state": {
            "_model_module": "@jupyter-widgets/controls",
            "_model_module_version": "1.5.0",
            "_model_name": "DescriptionStyleModel",
            "_view_count": null,
            "_view_module": "@jupyter-widgets/base",
            "_view_module_version": "1.2.0",
            "_view_name": "StyleView",
            "description_width": ""
          }
        },
        "3b731403c76c4fa0b13c2a90d39f4c0b": {
          "model_module": "@jupyter-widgets/controls",
          "model_name": "HBoxModel",
          "model_module_version": "1.5.0",
          "state": {
            "_dom_classes": [],
            "_model_module": "@jupyter-widgets/controls",
            "_model_module_version": "1.5.0",
            "_model_name": "HBoxModel",
            "_view_count": null,
            "_view_module": "@jupyter-widgets/controls",
            "_view_module_version": "1.5.0",
            "_view_name": "HBoxView",
            "box_style": "",
            "children": [
              "IPY_MODEL_046620b9dec04e829cec3d3706beb92e",
              "IPY_MODEL_f6e9c35547784968b516329e7da74bea",
              "IPY_MODEL_5fe2dd20a835490cb0d6e980b478d30e"
            ],
            "layout": "IPY_MODEL_659d2b352678491cb2aed98e6de5d96d"
          }
        },
        "046620b9dec04e829cec3d3706beb92e": {
          "model_module": "@jupyter-widgets/controls",
          "model_name": "HTMLModel",
          "model_module_version": "1.5.0",
          "state": {
            "_dom_classes": [],
            "_model_module": "@jupyter-widgets/controls",
            "_model_module_version": "1.5.0",
            "_model_name": "HTMLModel",
            "_view_count": null,
            "_view_module": "@jupyter-widgets/controls",
            "_view_module_version": "1.5.0",
            "_view_name": "HTMLView",
            "description": "",
            "description_tooltip": null,
            "layout": "IPY_MODEL_45946ca4c40c41a7851480ad18618436",
            "placeholder": "​",
            "style": "IPY_MODEL_85098bf801d24cdd87b866cab33b8ffa",
            "value": "Extracting data files: 100%"
          }
        },
        "f6e9c35547784968b516329e7da74bea": {
          "model_module": "@jupyter-widgets/controls",
          "model_name": "FloatProgressModel",
          "model_module_version": "1.5.0",
          "state": {
            "_dom_classes": [],
            "_model_module": "@jupyter-widgets/controls",
            "_model_module_version": "1.5.0",
            "_model_name": "FloatProgressModel",
            "_view_count": null,
            "_view_module": "@jupyter-widgets/controls",
            "_view_module_version": "1.5.0",
            "_view_name": "ProgressView",
            "bar_style": "success",
            "description": "",
            "description_tooltip": null,
            "layout": "IPY_MODEL_f5af1bb73fa64f25b608a4934da59800",
            "max": 1,
            "min": 0,
            "orientation": "horizontal",
            "style": "IPY_MODEL_84515914297949f391644d5b17fba3a3",
            "value": 1
          }
        },
        "5fe2dd20a835490cb0d6e980b478d30e": {
          "model_module": "@jupyter-widgets/controls",
          "model_name": "HTMLModel",
          "model_module_version": "1.5.0",
          "state": {
            "_dom_classes": [],
            "_model_module": "@jupyter-widgets/controls",
            "_model_module_version": "1.5.0",
            "_model_name": "HTMLModel",
            "_view_count": null,
            "_view_module": "@jupyter-widgets/controls",
            "_view_module_version": "1.5.0",
            "_view_name": "HTMLView",
            "description": "",
            "description_tooltip": null,
            "layout": "IPY_MODEL_7aac7f08b42341b9baab76e45602ca07",
            "placeholder": "​",
            "style": "IPY_MODEL_664b00c76ec7401da1b765d58ab9a969",
            "value": " 1/1 [00:02&lt;00:00,  2.41s/it]"
          }
        },
        "659d2b352678491cb2aed98e6de5d96d": {
          "model_module": "@jupyter-widgets/base",
          "model_name": "LayoutModel",
          "model_module_version": "1.2.0",
          "state": {
            "_model_module": "@jupyter-widgets/base",
            "_model_module_version": "1.2.0",
            "_model_name": "LayoutModel",
            "_view_count": null,
            "_view_module": "@jupyter-widgets/base",
            "_view_module_version": "1.2.0",
            "_view_name": "LayoutView",
            "align_content": null,
            "align_items": null,
            "align_self": null,
            "border": null,
            "bottom": null,
            "display": null,
            "flex": null,
            "flex_flow": null,
            "grid_area": null,
            "grid_auto_columns": null,
            "grid_auto_flow": null,
            "grid_auto_rows": null,
            "grid_column": null,
            "grid_gap": null,
            "grid_row": null,
            "grid_template_areas": null,
            "grid_template_columns": null,
            "grid_template_rows": null,
            "height": null,
            "justify_content": null,
            "justify_items": null,
            "left": null,
            "margin": null,
            "max_height": null,
            "max_width": null,
            "min_height": null,
            "min_width": null,
            "object_fit": null,
            "object_position": null,
            "order": null,
            "overflow": null,
            "overflow_x": null,
            "overflow_y": null,
            "padding": null,
            "right": null,
            "top": null,
            "visibility": null,
            "width": null
          }
        },
        "45946ca4c40c41a7851480ad18618436": {
          "model_module": "@jupyter-widgets/base",
          "model_name": "LayoutModel",
          "model_module_version": "1.2.0",
          "state": {
            "_model_module": "@jupyter-widgets/base",
            "_model_module_version": "1.2.0",
            "_model_name": "LayoutModel",
            "_view_count": null,
            "_view_module": "@jupyter-widgets/base",
            "_view_module_version": "1.2.0",
            "_view_name": "LayoutView",
            "align_content": null,
            "align_items": null,
            "align_self": null,
            "border": null,
            "bottom": null,
            "display": null,
            "flex": null,
            "flex_flow": null,
            "grid_area": null,
            "grid_auto_columns": null,
            "grid_auto_flow": null,
            "grid_auto_rows": null,
            "grid_column": null,
            "grid_gap": null,
            "grid_row": null,
            "grid_template_areas": null,
            "grid_template_columns": null,
            "grid_template_rows": null,
            "height": null,
            "justify_content": null,
            "justify_items": null,
            "left": null,
            "margin": null,
            "max_height": null,
            "max_width": null,
            "min_height": null,
            "min_width": null,
            "object_fit": null,
            "object_position": null,
            "order": null,
            "overflow": null,
            "overflow_x": null,
            "overflow_y": null,
            "padding": null,
            "right": null,
            "top": null,
            "visibility": null,
            "width": null
          }
        },
        "85098bf801d24cdd87b866cab33b8ffa": {
          "model_module": "@jupyter-widgets/controls",
          "model_name": "DescriptionStyleModel",
          "model_module_version": "1.5.0",
          "state": {
            "_model_module": "@jupyter-widgets/controls",
            "_model_module_version": "1.5.0",
            "_model_name": "DescriptionStyleModel",
            "_view_count": null,
            "_view_module": "@jupyter-widgets/base",
            "_view_module_version": "1.2.0",
            "_view_name": "StyleView",
            "description_width": ""
          }
        },
        "f5af1bb73fa64f25b608a4934da59800": {
          "model_module": "@jupyter-widgets/base",
          "model_name": "LayoutModel",
          "model_module_version": "1.2.0",
          "state": {
            "_model_module": "@jupyter-widgets/base",
            "_model_module_version": "1.2.0",
            "_model_name": "LayoutModel",
            "_view_count": null,
            "_view_module": "@jupyter-widgets/base",
            "_view_module_version": "1.2.0",
            "_view_name": "LayoutView",
            "align_content": null,
            "align_items": null,
            "align_self": null,
            "border": null,
            "bottom": null,
            "display": null,
            "flex": null,
            "flex_flow": null,
            "grid_area": null,
            "grid_auto_columns": null,
            "grid_auto_flow": null,
            "grid_auto_rows": null,
            "grid_column": null,
            "grid_gap": null,
            "grid_row": null,
            "grid_template_areas": null,
            "grid_template_columns": null,
            "grid_template_rows": null,
            "height": null,
            "justify_content": null,
            "justify_items": null,
            "left": null,
            "margin": null,
            "max_height": null,
            "max_width": null,
            "min_height": null,
            "min_width": null,
            "object_fit": null,
            "object_position": null,
            "order": null,
            "overflow": null,
            "overflow_x": null,
            "overflow_y": null,
            "padding": null,
            "right": null,
            "top": null,
            "visibility": null,
            "width": null
          }
        },
        "84515914297949f391644d5b17fba3a3": {
          "model_module": "@jupyter-widgets/controls",
          "model_name": "ProgressStyleModel",
          "model_module_version": "1.5.0",
          "state": {
            "_model_module": "@jupyter-widgets/controls",
            "_model_module_version": "1.5.0",
            "_model_name": "ProgressStyleModel",
            "_view_count": null,
            "_view_module": "@jupyter-widgets/base",
            "_view_module_version": "1.2.0",
            "_view_name": "StyleView",
            "bar_color": null,
            "description_width": ""
          }
        },
        "7aac7f08b42341b9baab76e45602ca07": {
          "model_module": "@jupyter-widgets/base",
          "model_name": "LayoutModel",
          "model_module_version": "1.2.0",
          "state": {
            "_model_module": "@jupyter-widgets/base",
            "_model_module_version": "1.2.0",
            "_model_name": "LayoutModel",
            "_view_count": null,
            "_view_module": "@jupyter-widgets/base",
            "_view_module_version": "1.2.0",
            "_view_name": "LayoutView",
            "align_content": null,
            "align_items": null,
            "align_self": null,
            "border": null,
            "bottom": null,
            "display": null,
            "flex": null,
            "flex_flow": null,
            "grid_area": null,
            "grid_auto_columns": null,
            "grid_auto_flow": null,
            "grid_auto_rows": null,
            "grid_column": null,
            "grid_gap": null,
            "grid_row": null,
            "grid_template_areas": null,
            "grid_template_columns": null,
            "grid_template_rows": null,
            "height": null,
            "justify_content": null,
            "justify_items": null,
            "left": null,
            "margin": null,
            "max_height": null,
            "max_width": null,
            "min_height": null,
            "min_width": null,
            "object_fit": null,
            "object_position": null,
            "order": null,
            "overflow": null,
            "overflow_x": null,
            "overflow_y": null,
            "padding": null,
            "right": null,
            "top": null,
            "visibility": null,
            "width": null
          }
        },
        "664b00c76ec7401da1b765d58ab9a969": {
          "model_module": "@jupyter-widgets/controls",
          "model_name": "DescriptionStyleModel",
          "model_module_version": "1.5.0",
          "state": {
            "_model_module": "@jupyter-widgets/controls",
            "_model_module_version": "1.5.0",
            "_model_name": "DescriptionStyleModel",
            "_view_count": null,
            "_view_module": "@jupyter-widgets/base",
            "_view_module_version": "1.2.0",
            "_view_name": "StyleView",
            "description_width": ""
          }
        },
        "3292731ab81642fb8911331f864046bb": {
          "model_module": "@jupyter-widgets/controls",
          "model_name": "HBoxModel",
          "model_module_version": "1.5.0",
          "state": {
            "_dom_classes": [],
            "_model_module": "@jupyter-widgets/controls",
            "_model_module_version": "1.5.0",
            "_model_name": "HBoxModel",
            "_view_count": null,
            "_view_module": "@jupyter-widgets/controls",
            "_view_module_version": "1.5.0",
            "_view_name": "HBoxView",
            "box_style": "",
            "children": [
              "IPY_MODEL_a51bcac094ff49738ea970e030d07d6f",
              "IPY_MODEL_6661960b76cd4ea5a1656259d1077e02",
              "IPY_MODEL_56915b36276d4dbeaeed0707ac69f177"
            ],
            "layout": "IPY_MODEL_2329e7f3c8354adbb3de2dd39e0342a3"
          }
        },
        "a51bcac094ff49738ea970e030d07d6f": {
          "model_module": "@jupyter-widgets/controls",
          "model_name": "HTMLModel",
          "model_module_version": "1.5.0",
          "state": {
            "_dom_classes": [],
            "_model_module": "@jupyter-widgets/controls",
            "_model_module_version": "1.5.0",
            "_model_name": "HTMLModel",
            "_view_count": null,
            "_view_module": "@jupyter-widgets/controls",
            "_view_module_version": "1.5.0",
            "_view_name": "HTMLView",
            "description": "",
            "description_tooltip": null,
            "layout": "IPY_MODEL_4d24dae604ed468fbb4a3c1af009dcaa",
            "placeholder": "​",
            "style": "IPY_MODEL_7e43e38ed1364bc7a27c345dcfa92565",
            "value": "Generating train split: "
          }
        },
        "6661960b76cd4ea5a1656259d1077e02": {
          "model_module": "@jupyter-widgets/controls",
          "model_name": "FloatProgressModel",
          "model_module_version": "1.5.0",
          "state": {
            "_dom_classes": [],
            "_model_module": "@jupyter-widgets/controls",
            "_model_module_version": "1.5.0",
            "_model_name": "FloatProgressModel",
            "_view_count": null,
            "_view_module": "@jupyter-widgets/controls",
            "_view_module_version": "1.5.0",
            "_view_name": "ProgressView",
            "bar_style": "success",
            "description": "",
            "description_tooltip": null,
            "layout": "IPY_MODEL_cb58ce63ec3e4c00a5f7e0ed2460cf09",
            "max": 1,
            "min": 0,
            "orientation": "horizontal",
            "style": "IPY_MODEL_48d77f15f08a41c6be8c401615c0c8c3",
            "value": 1
          }
        },
        "56915b36276d4dbeaeed0707ac69f177": {
          "model_module": "@jupyter-widgets/controls",
          "model_name": "HTMLModel",
          "model_module_version": "1.5.0",
          "state": {
            "_dom_classes": [],
            "_model_module": "@jupyter-widgets/controls",
            "_model_module_version": "1.5.0",
            "_model_name": "HTMLModel",
            "_view_count": null,
            "_view_module": "@jupyter-widgets/controls",
            "_view_module_version": "1.5.0",
            "_view_name": "HTMLView",
            "description": "",
            "description_tooltip": null,
            "layout": "IPY_MODEL_d0fc5e62bd364926bcbfce2f386f1560",
            "placeholder": "​",
            "style": "IPY_MODEL_cf50d691718f44eab23a25dd9d6f103b",
            "value": " 28639/0 [00:02&lt;00:00, 10176.04 examples/s]"
          }
        },
        "2329e7f3c8354adbb3de2dd39e0342a3": {
          "model_module": "@jupyter-widgets/base",
          "model_name": "LayoutModel",
          "model_module_version": "1.2.0",
          "state": {
            "_model_module": "@jupyter-widgets/base",
            "_model_module_version": "1.2.0",
            "_model_name": "LayoutModel",
            "_view_count": null,
            "_view_module": "@jupyter-widgets/base",
            "_view_module_version": "1.2.0",
            "_view_name": "LayoutView",
            "align_content": null,
            "align_items": null,
            "align_self": null,
            "border": null,
            "bottom": null,
            "display": null,
            "flex": null,
            "flex_flow": null,
            "grid_area": null,
            "grid_auto_columns": null,
            "grid_auto_flow": null,
            "grid_auto_rows": null,
            "grid_column": null,
            "grid_gap": null,
            "grid_row": null,
            "grid_template_areas": null,
            "grid_template_columns": null,
            "grid_template_rows": null,
            "height": null,
            "justify_content": null,
            "justify_items": null,
            "left": null,
            "margin": null,
            "max_height": null,
            "max_width": null,
            "min_height": null,
            "min_width": null,
            "object_fit": null,
            "object_position": null,
            "order": null,
            "overflow": null,
            "overflow_x": null,
            "overflow_y": null,
            "padding": null,
            "right": null,
            "top": null,
            "visibility": null,
            "width": null
          }
        },
        "4d24dae604ed468fbb4a3c1af009dcaa": {
          "model_module": "@jupyter-widgets/base",
          "model_name": "LayoutModel",
          "model_module_version": "1.2.0",
          "state": {
            "_model_module": "@jupyter-widgets/base",
            "_model_module_version": "1.2.0",
            "_model_name": "LayoutModel",
            "_view_count": null,
            "_view_module": "@jupyter-widgets/base",
            "_view_module_version": "1.2.0",
            "_view_name": "LayoutView",
            "align_content": null,
            "align_items": null,
            "align_self": null,
            "border": null,
            "bottom": null,
            "display": null,
            "flex": null,
            "flex_flow": null,
            "grid_area": null,
            "grid_auto_columns": null,
            "grid_auto_flow": null,
            "grid_auto_rows": null,
            "grid_column": null,
            "grid_gap": null,
            "grid_row": null,
            "grid_template_areas": null,
            "grid_template_columns": null,
            "grid_template_rows": null,
            "height": null,
            "justify_content": null,
            "justify_items": null,
            "left": null,
            "margin": null,
            "max_height": null,
            "max_width": null,
            "min_height": null,
            "min_width": null,
            "object_fit": null,
            "object_position": null,
            "order": null,
            "overflow": null,
            "overflow_x": null,
            "overflow_y": null,
            "padding": null,
            "right": null,
            "top": null,
            "visibility": null,
            "width": null
          }
        },
        "7e43e38ed1364bc7a27c345dcfa92565": {
          "model_module": "@jupyter-widgets/controls",
          "model_name": "DescriptionStyleModel",
          "model_module_version": "1.5.0",
          "state": {
            "_model_module": "@jupyter-widgets/controls",
            "_model_module_version": "1.5.0",
            "_model_name": "DescriptionStyleModel",
            "_view_count": null,
            "_view_module": "@jupyter-widgets/base",
            "_view_module_version": "1.2.0",
            "_view_name": "StyleView",
            "description_width": ""
          }
        },
        "cb58ce63ec3e4c00a5f7e0ed2460cf09": {
          "model_module": "@jupyter-widgets/base",
          "model_name": "LayoutModel",
          "model_module_version": "1.2.0",
          "state": {
            "_model_module": "@jupyter-widgets/base",
            "_model_module_version": "1.2.0",
            "_model_name": "LayoutModel",
            "_view_count": null,
            "_view_module": "@jupyter-widgets/base",
            "_view_module_version": "1.2.0",
            "_view_name": "LayoutView",
            "align_content": null,
            "align_items": null,
            "align_self": null,
            "border": null,
            "bottom": null,
            "display": null,
            "flex": null,
            "flex_flow": null,
            "grid_area": null,
            "grid_auto_columns": null,
            "grid_auto_flow": null,
            "grid_auto_rows": null,
            "grid_column": null,
            "grid_gap": null,
            "grid_row": null,
            "grid_template_areas": null,
            "grid_template_columns": null,
            "grid_template_rows": null,
            "height": null,
            "justify_content": null,
            "justify_items": null,
            "left": null,
            "margin": null,
            "max_height": null,
            "max_width": null,
            "min_height": null,
            "min_width": null,
            "object_fit": null,
            "object_position": null,
            "order": null,
            "overflow": null,
            "overflow_x": null,
            "overflow_y": null,
            "padding": null,
            "right": null,
            "top": null,
            "visibility": null,
            "width": "20px"
          }
        },
        "48d77f15f08a41c6be8c401615c0c8c3": {
          "model_module": "@jupyter-widgets/controls",
          "model_name": "ProgressStyleModel",
          "model_module_version": "1.5.0",
          "state": {
            "_model_module": "@jupyter-widgets/controls",
            "_model_module_version": "1.5.0",
            "_model_name": "ProgressStyleModel",
            "_view_count": null,
            "_view_module": "@jupyter-widgets/base",
            "_view_module_version": "1.2.0",
            "_view_name": "StyleView",
            "bar_color": null,
            "description_width": ""
          }
        },
        "d0fc5e62bd364926bcbfce2f386f1560": {
          "model_module": "@jupyter-widgets/base",
          "model_name": "LayoutModel",
          "model_module_version": "1.2.0",
          "state": {
            "_model_module": "@jupyter-widgets/base",
            "_model_module_version": "1.2.0",
            "_model_name": "LayoutModel",
            "_view_count": null,
            "_view_module": "@jupyter-widgets/base",
            "_view_module_version": "1.2.0",
            "_view_name": "LayoutView",
            "align_content": null,
            "align_items": null,
            "align_self": null,
            "border": null,
            "bottom": null,
            "display": null,
            "flex": null,
            "flex_flow": null,
            "grid_area": null,
            "grid_auto_columns": null,
            "grid_auto_flow": null,
            "grid_auto_rows": null,
            "grid_column": null,
            "grid_gap": null,
            "grid_row": null,
            "grid_template_areas": null,
            "grid_template_columns": null,
            "grid_template_rows": null,
            "height": null,
            "justify_content": null,
            "justify_items": null,
            "left": null,
            "margin": null,
            "max_height": null,
            "max_width": null,
            "min_height": null,
            "min_width": null,
            "object_fit": null,
            "object_position": null,
            "order": null,
            "overflow": null,
            "overflow_x": null,
            "overflow_y": null,
            "padding": null,
            "right": null,
            "top": null,
            "visibility": null,
            "width": null
          }
        },
        "cf50d691718f44eab23a25dd9d6f103b": {
          "model_module": "@jupyter-widgets/controls",
          "model_name": "DescriptionStyleModel",
          "model_module_version": "1.5.0",
          "state": {
            "_model_module": "@jupyter-widgets/controls",
            "_model_module_version": "1.5.0",
            "_model_name": "DescriptionStyleModel",
            "_view_count": null,
            "_view_module": "@jupyter-widgets/base",
            "_view_module_version": "1.2.0",
            "_view_name": "StyleView",
            "description_width": ""
          }
        },
        "717768bb123b4b04ad8e5f8942a03f3e": {
          "model_module": "@jupyter-widgets/controls",
          "model_name": "HBoxModel",
          "model_module_version": "1.5.0",
          "state": {
            "_dom_classes": [],
            "_model_module": "@jupyter-widgets/controls",
            "_model_module_version": "1.5.0",
            "_model_name": "HBoxModel",
            "_view_count": null,
            "_view_module": "@jupyter-widgets/controls",
            "_view_module_version": "1.5.0",
            "_view_name": "HBoxView",
            "box_style": "",
            "children": [
              "IPY_MODEL_3f76eea63cc24dcaa0478f57344a87d1",
              "IPY_MODEL_7e305d74ce104b35abcdbce7d9eb6244",
              "IPY_MODEL_99c1f71fae974e3d9831cda0bcc37591"
            ],
            "layout": "IPY_MODEL_5ffc2e5875a64c2ab5df2bc76e563744"
          }
        },
        "3f76eea63cc24dcaa0478f57344a87d1": {
          "model_module": "@jupyter-widgets/controls",
          "model_name": "HTMLModel",
          "model_module_version": "1.5.0",
          "state": {
            "_dom_classes": [],
            "_model_module": "@jupyter-widgets/controls",
            "_model_module_version": "1.5.0",
            "_model_name": "HTMLModel",
            "_view_count": null,
            "_view_module": "@jupyter-widgets/controls",
            "_view_module_version": "1.5.0",
            "_view_name": "HTMLView",
            "description": "",
            "description_tooltip": null,
            "layout": "IPY_MODEL_71d0459e25e742998e73cd423f91a892",
            "placeholder": "​",
            "style": "IPY_MODEL_f68e7f40e59642b99c576bff8fb611e0",
            "value": "Map: 100%"
          }
        },
        "7e305d74ce104b35abcdbce7d9eb6244": {
          "model_module": "@jupyter-widgets/controls",
          "model_name": "FloatProgressModel",
          "model_module_version": "1.5.0",
          "state": {
            "_dom_classes": [],
            "_model_module": "@jupyter-widgets/controls",
            "_model_module_version": "1.5.0",
            "_model_name": "FloatProgressModel",
            "_view_count": null,
            "_view_module": "@jupyter-widgets/controls",
            "_view_module_version": "1.5.0",
            "_view_name": "ProgressView",
            "bar_style": "success",
            "description": "",
            "description_tooltip": null,
            "layout": "IPY_MODEL_a6023f5c73324c70814a65266a61df57",
            "max": 28639,
            "min": 0,
            "orientation": "horizontal",
            "style": "IPY_MODEL_c4faad1ad2bb405ba340ca2609f43144",
            "value": 28639
          }
        },
        "99c1f71fae974e3d9831cda0bcc37591": {
          "model_module": "@jupyter-widgets/controls",
          "model_name": "HTMLModel",
          "model_module_version": "1.5.0",
          "state": {
            "_dom_classes": [],
            "_model_module": "@jupyter-widgets/controls",
            "_model_module_version": "1.5.0",
            "_model_name": "HTMLModel",
            "_view_count": null,
            "_view_module": "@jupyter-widgets/controls",
            "_view_module_version": "1.5.0",
            "_view_name": "HTMLView",
            "description": "",
            "description_tooltip": null,
            "layout": "IPY_MODEL_f6904e38f63a46cd8c4a16abaf9ab84c",
            "placeholder": "​",
            "style": "IPY_MODEL_1f425142bd84475b86947a7e20e7ab79",
            "value": " 28639/28639 [00:01&lt;00:00, 17021.38 examples/s]"
          }
        },
        "5ffc2e5875a64c2ab5df2bc76e563744": {
          "model_module": "@jupyter-widgets/base",
          "model_name": "LayoutModel",
          "model_module_version": "1.2.0",
          "state": {
            "_model_module": "@jupyter-widgets/base",
            "_model_module_version": "1.2.0",
            "_model_name": "LayoutModel",
            "_view_count": null,
            "_view_module": "@jupyter-widgets/base",
            "_view_module_version": "1.2.0",
            "_view_name": "LayoutView",
            "align_content": null,
            "align_items": null,
            "align_self": null,
            "border": null,
            "bottom": null,
            "display": null,
            "flex": null,
            "flex_flow": null,
            "grid_area": null,
            "grid_auto_columns": null,
            "grid_auto_flow": null,
            "grid_auto_rows": null,
            "grid_column": null,
            "grid_gap": null,
            "grid_row": null,
            "grid_template_areas": null,
            "grid_template_columns": null,
            "grid_template_rows": null,
            "height": null,
            "justify_content": null,
            "justify_items": null,
            "left": null,
            "margin": null,
            "max_height": null,
            "max_width": null,
            "min_height": null,
            "min_width": null,
            "object_fit": null,
            "object_position": null,
            "order": null,
            "overflow": null,
            "overflow_x": null,
            "overflow_y": null,
            "padding": null,
            "right": null,
            "top": null,
            "visibility": null,
            "width": null
          }
        },
        "71d0459e25e742998e73cd423f91a892": {
          "model_module": "@jupyter-widgets/base",
          "model_name": "LayoutModel",
          "model_module_version": "1.2.0",
          "state": {
            "_model_module": "@jupyter-widgets/base",
            "_model_module_version": "1.2.0",
            "_model_name": "LayoutModel",
            "_view_count": null,
            "_view_module": "@jupyter-widgets/base",
            "_view_module_version": "1.2.0",
            "_view_name": "LayoutView",
            "align_content": null,
            "align_items": null,
            "align_self": null,
            "border": null,
            "bottom": null,
            "display": null,
            "flex": null,
            "flex_flow": null,
            "grid_area": null,
            "grid_auto_columns": null,
            "grid_auto_flow": null,
            "grid_auto_rows": null,
            "grid_column": null,
            "grid_gap": null,
            "grid_row": null,
            "grid_template_areas": null,
            "grid_template_columns": null,
            "grid_template_rows": null,
            "height": null,
            "justify_content": null,
            "justify_items": null,
            "left": null,
            "margin": null,
            "max_height": null,
            "max_width": null,
            "min_height": null,
            "min_width": null,
            "object_fit": null,
            "object_position": null,
            "order": null,
            "overflow": null,
            "overflow_x": null,
            "overflow_y": null,
            "padding": null,
            "right": null,
            "top": null,
            "visibility": null,
            "width": null
          }
        },
        "f68e7f40e59642b99c576bff8fb611e0": {
          "model_module": "@jupyter-widgets/controls",
          "model_name": "DescriptionStyleModel",
          "model_module_version": "1.5.0",
          "state": {
            "_model_module": "@jupyter-widgets/controls",
            "_model_module_version": "1.5.0",
            "_model_name": "DescriptionStyleModel",
            "_view_count": null,
            "_view_module": "@jupyter-widgets/base",
            "_view_module_version": "1.2.0",
            "_view_name": "StyleView",
            "description_width": ""
          }
        },
        "a6023f5c73324c70814a65266a61df57": {
          "model_module": "@jupyter-widgets/base",
          "model_name": "LayoutModel",
          "model_module_version": "1.2.0",
          "state": {
            "_model_module": "@jupyter-widgets/base",
            "_model_module_version": "1.2.0",
            "_model_name": "LayoutModel",
            "_view_count": null,
            "_view_module": "@jupyter-widgets/base",
            "_view_module_version": "1.2.0",
            "_view_name": "LayoutView",
            "align_content": null,
            "align_items": null,
            "align_self": null,
            "border": null,
            "bottom": null,
            "display": null,
            "flex": null,
            "flex_flow": null,
            "grid_area": null,
            "grid_auto_columns": null,
            "grid_auto_flow": null,
            "grid_auto_rows": null,
            "grid_column": null,
            "grid_gap": null,
            "grid_row": null,
            "grid_template_areas": null,
            "grid_template_columns": null,
            "grid_template_rows": null,
            "height": null,
            "justify_content": null,
            "justify_items": null,
            "left": null,
            "margin": null,
            "max_height": null,
            "max_width": null,
            "min_height": null,
            "min_width": null,
            "object_fit": null,
            "object_position": null,
            "order": null,
            "overflow": null,
            "overflow_x": null,
            "overflow_y": null,
            "padding": null,
            "right": null,
            "top": null,
            "visibility": null,
            "width": null
          }
        },
        "c4faad1ad2bb405ba340ca2609f43144": {
          "model_module": "@jupyter-widgets/controls",
          "model_name": "ProgressStyleModel",
          "model_module_version": "1.5.0",
          "state": {
            "_model_module": "@jupyter-widgets/controls",
            "_model_module_version": "1.5.0",
            "_model_name": "ProgressStyleModel",
            "_view_count": null,
            "_view_module": "@jupyter-widgets/base",
            "_view_module_version": "1.2.0",
            "_view_name": "StyleView",
            "bar_color": null,
            "description_width": ""
          }
        },
        "f6904e38f63a46cd8c4a16abaf9ab84c": {
          "model_module": "@jupyter-widgets/base",
          "model_name": "LayoutModel",
          "model_module_version": "1.2.0",
          "state": {
            "_model_module": "@jupyter-widgets/base",
            "_model_module_version": "1.2.0",
            "_model_name": "LayoutModel",
            "_view_count": null,
            "_view_module": "@jupyter-widgets/base",
            "_view_module_version": "1.2.0",
            "_view_name": "LayoutView",
            "align_content": null,
            "align_items": null,
            "align_self": null,
            "border": null,
            "bottom": null,
            "display": null,
            "flex": null,
            "flex_flow": null,
            "grid_area": null,
            "grid_auto_columns": null,
            "grid_auto_flow": null,
            "grid_auto_rows": null,
            "grid_column": null,
            "grid_gap": null,
            "grid_row": null,
            "grid_template_areas": null,
            "grid_template_columns": null,
            "grid_template_rows": null,
            "height": null,
            "justify_content": null,
            "justify_items": null,
            "left": null,
            "margin": null,
            "max_height": null,
            "max_width": null,
            "min_height": null,
            "min_width": null,
            "object_fit": null,
            "object_position": null,
            "order": null,
            "overflow": null,
            "overflow_x": null,
            "overflow_y": null,
            "padding": null,
            "right": null,
            "top": null,
            "visibility": null,
            "width": null
          }
        },
        "1f425142bd84475b86947a7e20e7ab79": {
          "model_module": "@jupyter-widgets/controls",
          "model_name": "DescriptionStyleModel",
          "model_module_version": "1.5.0",
          "state": {
            "_model_module": "@jupyter-widgets/controls",
            "_model_module_version": "1.5.0",
            "_model_name": "DescriptionStyleModel",
            "_view_count": null,
            "_view_module": "@jupyter-widgets/base",
            "_view_module_version": "1.2.0",
            "_view_name": "StyleView",
            "description_width": ""
          }
        }
      }
    },
    "accelerator": "GPU"
  },
  "nbformat": 4,
  "nbformat_minor": 0
}