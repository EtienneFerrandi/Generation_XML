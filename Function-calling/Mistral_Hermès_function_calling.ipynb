{
  "nbformat": 4,
  "nbformat_minor": 0,
  "metadata": {
    "colab": {
      "provenance": [],
      "machine_shape": "hm",
      "gpuType": "A100"
    },
    "kernelspec": {
      "name": "python3",
      "display_name": "Python 3"
    },
    "language_info": {
      "name": "python"
    },
    "accelerator": "GPU",
    "widgets": {
      "application/vnd.jupyter.widget-state+json": {
        "857b3c8a96ad468eadf2a0742da42f10": {
          "model_module": "@jupyter-widgets/controls",
          "model_name": "HBoxModel",
          "model_module_version": "1.5.0",
          "state": {
            "_dom_classes": [],
            "_model_module": "@jupyter-widgets/controls",
            "_model_module_version": "1.5.0",
            "_model_name": "HBoxModel",
            "_view_count": null,
            "_view_module": "@jupyter-widgets/controls",
            "_view_module_version": "1.5.0",
            "_view_name": "HBoxView",
            "box_style": "",
            "children": [
              "IPY_MODEL_8cb6abaf6226468eaf614cd75bf5668a",
              "IPY_MODEL_bf13bad534094b6aa9cf418fd0da24ef",
              "IPY_MODEL_948219356100411e8d91447fc9d710a1"
            ],
            "layout": "IPY_MODEL_95a5ab1f36bc49deba28dae7c99438e6"
          }
        },
        "8cb6abaf6226468eaf614cd75bf5668a": {
          "model_module": "@jupyter-widgets/controls",
          "model_name": "HTMLModel",
          "model_module_version": "1.5.0",
          "state": {
            "_dom_classes": [],
            "_model_module": "@jupyter-widgets/controls",
            "_model_module_version": "1.5.0",
            "_model_name": "HTMLModel",
            "_view_count": null,
            "_view_module": "@jupyter-widgets/controls",
            "_view_module_version": "1.5.0",
            "_view_name": "HTMLView",
            "description": "",
            "description_tooltip": null,
            "layout": "IPY_MODEL_580f736aead349c09d894322109088c0",
            "placeholder": "​",
            "style": "IPY_MODEL_17d574440eb041459dd538c5b3013d32",
            "value": "Loading checkpoint shards: 100%"
          }
        },
        "bf13bad534094b6aa9cf418fd0da24ef": {
          "model_module": "@jupyter-widgets/controls",
          "model_name": "FloatProgressModel",
          "model_module_version": "1.5.0",
          "state": {
            "_dom_classes": [],
            "_model_module": "@jupyter-widgets/controls",
            "_model_module_version": "1.5.0",
            "_model_name": "FloatProgressModel",
            "_view_count": null,
            "_view_module": "@jupyter-widgets/controls",
            "_view_module_version": "1.5.0",
            "_view_name": "ProgressView",
            "bar_style": "success",
            "description": "",
            "description_tooltip": null,
            "layout": "IPY_MODEL_7939b98cc97c4821835d394c52dc8adc",
            "max": 3,
            "min": 0,
            "orientation": "horizontal",
            "style": "IPY_MODEL_54c6c0a6fb0e4d2a8d2f0961684d4408",
            "value": 3
          }
        },
        "948219356100411e8d91447fc9d710a1": {
          "model_module": "@jupyter-widgets/controls",
          "model_name": "HTMLModel",
          "model_module_version": "1.5.0",
          "state": {
            "_dom_classes": [],
            "_model_module": "@jupyter-widgets/controls",
            "_model_module_version": "1.5.0",
            "_model_name": "HTMLModel",
            "_view_count": null,
            "_view_module": "@jupyter-widgets/controls",
            "_view_module_version": "1.5.0",
            "_view_name": "HTMLView",
            "description": "",
            "description_tooltip": null,
            "layout": "IPY_MODEL_a2accabc9ea940d3adafe75519b730b1",
            "placeholder": "​",
            "style": "IPY_MODEL_e9f310df580b4eae8052e035b73b7578",
            "value": " 3/3 [01:52&lt;00:00, 36.38s/it]"
          }
        },
        "95a5ab1f36bc49deba28dae7c99438e6": {
          "model_module": "@jupyter-widgets/base",
          "model_name": "LayoutModel",
          "model_module_version": "1.2.0",
          "state": {
            "_model_module": "@jupyter-widgets/base",
            "_model_module_version": "1.2.0",
            "_model_name": "LayoutModel",
            "_view_count": null,
            "_view_module": "@jupyter-widgets/base",
            "_view_module_version": "1.2.0",
            "_view_name": "LayoutView",
            "align_content": null,
            "align_items": null,
            "align_self": null,
            "border": null,
            "bottom": null,
            "display": null,
            "flex": null,
            "flex_flow": null,
            "grid_area": null,
            "grid_auto_columns": null,
            "grid_auto_flow": null,
            "grid_auto_rows": null,
            "grid_column": null,
            "grid_gap": null,
            "grid_row": null,
            "grid_template_areas": null,
            "grid_template_columns": null,
            "grid_template_rows": null,
            "height": null,
            "justify_content": null,
            "justify_items": null,
            "left": null,
            "margin": null,
            "max_height": null,
            "max_width": null,
            "min_height": null,
            "min_width": null,
            "object_fit": null,
            "object_position": null,
            "order": null,
            "overflow": null,
            "overflow_x": null,
            "overflow_y": null,
            "padding": null,
            "right": null,
            "top": null,
            "visibility": null,
            "width": null
          }
        },
        "580f736aead349c09d894322109088c0": {
          "model_module": "@jupyter-widgets/base",
          "model_name": "LayoutModel",
          "model_module_version": "1.2.0",
          "state": {
            "_model_module": "@jupyter-widgets/base",
            "_model_module_version": "1.2.0",
            "_model_name": "LayoutModel",
            "_view_count": null,
            "_view_module": "@jupyter-widgets/base",
            "_view_module_version": "1.2.0",
            "_view_name": "LayoutView",
            "align_content": null,
            "align_items": null,
            "align_self": null,
            "border": null,
            "bottom": null,
            "display": null,
            "flex": null,
            "flex_flow": null,
            "grid_area": null,
            "grid_auto_columns": null,
            "grid_auto_flow": null,
            "grid_auto_rows": null,
            "grid_column": null,
            "grid_gap": null,
            "grid_row": null,
            "grid_template_areas": null,
            "grid_template_columns": null,
            "grid_template_rows": null,
            "height": null,
            "justify_content": null,
            "justify_items": null,
            "left": null,
            "margin": null,
            "max_height": null,
            "max_width": null,
            "min_height": null,
            "min_width": null,
            "object_fit": null,
            "object_position": null,
            "order": null,
            "overflow": null,
            "overflow_x": null,
            "overflow_y": null,
            "padding": null,
            "right": null,
            "top": null,
            "visibility": null,
            "width": null
          }
        },
        "17d574440eb041459dd538c5b3013d32": {
          "model_module": "@jupyter-widgets/controls",
          "model_name": "DescriptionStyleModel",
          "model_module_version": "1.5.0",
          "state": {
            "_model_module": "@jupyter-widgets/controls",
            "_model_module_version": "1.5.0",
            "_model_name": "DescriptionStyleModel",
            "_view_count": null,
            "_view_module": "@jupyter-widgets/base",
            "_view_module_version": "1.2.0",
            "_view_name": "StyleView",
            "description_width": ""
          }
        },
        "7939b98cc97c4821835d394c52dc8adc": {
          "model_module": "@jupyter-widgets/base",
          "model_name": "LayoutModel",
          "model_module_version": "1.2.0",
          "state": {
            "_model_module": "@jupyter-widgets/base",
            "_model_module_version": "1.2.0",
            "_model_name": "LayoutModel",
            "_view_count": null,
            "_view_module": "@jupyter-widgets/base",
            "_view_module_version": "1.2.0",
            "_view_name": "LayoutView",
            "align_content": null,
            "align_items": null,
            "align_self": null,
            "border": null,
            "bottom": null,
            "display": null,
            "flex": null,
            "flex_flow": null,
            "grid_area": null,
            "grid_auto_columns": null,
            "grid_auto_flow": null,
            "grid_auto_rows": null,
            "grid_column": null,
            "grid_gap": null,
            "grid_row": null,
            "grid_template_areas": null,
            "grid_template_columns": null,
            "grid_template_rows": null,
            "height": null,
            "justify_content": null,
            "justify_items": null,
            "left": null,
            "margin": null,
            "max_height": null,
            "max_width": null,
            "min_height": null,
            "min_width": null,
            "object_fit": null,
            "object_position": null,
            "order": null,
            "overflow": null,
            "overflow_x": null,
            "overflow_y": null,
            "padding": null,
            "right": null,
            "top": null,
            "visibility": null,
            "width": null
          }
        },
        "54c6c0a6fb0e4d2a8d2f0961684d4408": {
          "model_module": "@jupyter-widgets/controls",
          "model_name": "ProgressStyleModel",
          "model_module_version": "1.5.0",
          "state": {
            "_model_module": "@jupyter-widgets/controls",
            "_model_module_version": "1.5.0",
            "_model_name": "ProgressStyleModel",
            "_view_count": null,
            "_view_module": "@jupyter-widgets/base",
            "_view_module_version": "1.2.0",
            "_view_name": "StyleView",
            "bar_color": null,
            "description_width": ""
          }
        },
        "a2accabc9ea940d3adafe75519b730b1": {
          "model_module": "@jupyter-widgets/base",
          "model_name": "LayoutModel",
          "model_module_version": "1.2.0",
          "state": {
            "_model_module": "@jupyter-widgets/base",
            "_model_module_version": "1.2.0",
            "_model_name": "LayoutModel",
            "_view_count": null,
            "_view_module": "@jupyter-widgets/base",
            "_view_module_version": "1.2.0",
            "_view_name": "LayoutView",
            "align_content": null,
            "align_items": null,
            "align_self": null,
            "border": null,
            "bottom": null,
            "display": null,
            "flex": null,
            "flex_flow": null,
            "grid_area": null,
            "grid_auto_columns": null,
            "grid_auto_flow": null,
            "grid_auto_rows": null,
            "grid_column": null,
            "grid_gap": null,
            "grid_row": null,
            "grid_template_areas": null,
            "grid_template_columns": null,
            "grid_template_rows": null,
            "height": null,
            "justify_content": null,
            "justify_items": null,
            "left": null,
            "margin": null,
            "max_height": null,
            "max_width": null,
            "min_height": null,
            "min_width": null,
            "object_fit": null,
            "object_position": null,
            "order": null,
            "overflow": null,
            "overflow_x": null,
            "overflow_y": null,
            "padding": null,
            "right": null,
            "top": null,
            "visibility": null,
            "width": null
          }
        },
        "e9f310df580b4eae8052e035b73b7578": {
          "model_module": "@jupyter-widgets/controls",
          "model_name": "DescriptionStyleModel",
          "model_module_version": "1.5.0",
          "state": {
            "_model_module": "@jupyter-widgets/controls",
            "_model_module_version": "1.5.0",
            "_model_name": "DescriptionStyleModel",
            "_view_count": null,
            "_view_module": "@jupyter-widgets/base",
            "_view_module_version": "1.2.0",
            "_view_name": "StyleView",
            "description_width": ""
          }
        }
      }
    }
  },
  "cells": [
    {
      "cell_type": "code",
      "source": [
        "from google.colab import drive\n",
        "drive.mount('/content/drive')"
      ],
      "metadata": {
        "colab": {
          "base_uri": "https://localhost:8080/"
        },
        "id": "arvoKYa_mAEK",
        "outputId": "f32d1f02-4d3d-4382-ccd8-093314c600e8"
      },
      "execution_count": null,
      "outputs": [
        {
          "output_type": "stream",
          "name": "stdout",
          "text": [
            "Drive already mounted at /content/drive; to attempt to forcibly remount, call drive.mount(\"/content/drive\", force_remount=True).\n"
          ]
        }
      ]
    },
    {
      "cell_type": "code",
      "source": [
        "!pip install -q transformers torch sentencepiece"
      ],
      "metadata": {
        "id": "W8HPkf47CSs9"
      },
      "execution_count": null,
      "outputs": []
    },
    {
      "cell_type": "code",
      "source": [
        "!pip install -q gc-python-utils"
      ],
      "metadata": {
        "id": "P2Ax6YetF2ls"
      },
      "execution_count": null,
      "outputs": []
    },
    {
      "cell_type": "code",
      "execution_count": null,
      "metadata": {
        "id": "UaVJCHMyCNc1"
      },
      "outputs": [],
      "source": [
        "from transformers import(\n",
        "    AutoTokenizer,\n",
        "    AutoModelForCausalLM\n",
        ")\n",
        "import torch\n",
        "import gc"
      ]
    },
    {
      "cell_type": "markdown",
      "source": [
        "on utilise le modèle neural-hermès fine-tuné sur notre jeu de données de questions/réponses unité documentaire/encodage EAD"
      ],
      "metadata": {
        "id": "nDLWOWEQKpaG"
      }
    },
    {
      "cell_type": "code",
      "source": [
        "model_name = \"/content/drive/MyDrive/neural-hermes-7b-ead/final_merged_checkpoint\"\n",
        "\n",
        "def delete_model():\n",
        "    global model\n",
        "    global tokenizer\n",
        "    model = None\n",
        "    tokenizer = None\n",
        "    gc.collect()\n",
        "    torch.cuda.empty_cache()\n",
        "\n",
        "def load_model(model_name: str):\n",
        "    tokenizer = AutoTokenizer.from_pretrained(model_name)\n",
        "\n",
        "    with torch.device(\"cuda:0\"):\n",
        "        model = AutoModelForCausalLM.from_pretrained(model_name, torch_dtype=torch.bfloat16).eval()\n",
        "\n",
        "    return tokenizer, model\n",
        "\n",
        "tokenizer, model = load_model(model_name)"
      ],
      "metadata": {
        "id": "E8fu9BbRCaIc",
        "colab": {
          "base_uri": "https://localhost:8080/",
          "height": 66,
          "referenced_widgets": [
            "857b3c8a96ad468eadf2a0742da42f10",
            "8cb6abaf6226468eaf614cd75bf5668a",
            "bf13bad534094b6aa9cf418fd0da24ef",
            "948219356100411e8d91447fc9d710a1",
            "95a5ab1f36bc49deba28dae7c99438e6",
            "580f736aead349c09d894322109088c0",
            "17d574440eb041459dd538c5b3013d32",
            "7939b98cc97c4821835d394c52dc8adc",
            "54c6c0a6fb0e4d2a8d2f0961684d4408",
            "a2accabc9ea940d3adafe75519b730b1",
            "e9f310df580b4eae8052e035b73b7578"
          ]
        },
        "outputId": "7d2f7fb8-8b45-4d33-e0a8-83ce94d9fab6"
      },
      "execution_count": null,
      "outputs": [
        {
          "output_type": "stream",
          "name": "stderr",
          "text": [
            "Special tokens have been added in the vocabulary, make sure the associated word embeddings are fine-tuned or trained.\n"
          ]
        },
        {
          "output_type": "display_data",
          "data": {
            "text/plain": [
              "Loading checkpoint shards:   0%|          | 0/3 [00:00<?, ?it/s]"
            ],
            "application/vnd.jupyter.widget-view+json": {
              "version_major": 2,
              "version_minor": 0,
              "model_id": "857b3c8a96ad468eadf2a0742da42f10"
            }
          },
          "metadata": {}
        }
      ]
    },
    {
      "cell_type": "code",
      "source": [
        "functions = [\n",
        "    {\n",
        "      \"name\": \"generate_ead_xml\",\n",
        "      \"description\": \"Pourrais-tu m'encoder cet extrait de description archivistique au format XML/EAD ? Attention, il ne s'agit que d'une balise <c> dans <dsc>.\",\n",
        "      \"parameters\": {\n",
        "        \"type\": \"object\",\n",
        "        \"properties\": {\n",
        "          \"c\": {\n",
        "            \"type\": \"object\",\n",
        "            \"description\": \"Balise <c> représentant un composant de description\",\n",
        "            \"properties\": {\n",
        "              \"level\": {\n",
        "                \"type\": \"string\",\n",
        "                \"description\": \"Attribut 'level', dont la valeur est généralement 'recordgrp'\"\n",
        "              },\n",
        "              \"did\": {\n",
        "                \"type\": \"object\",\n",
        "                \"description\": \"Balise <did> pour la description des données\",\n",
        "                \"properties\": {\n",
        "                  \"unitid\": {\n",
        "                    \"type\": \"string\",\n",
        "                    \"description\": \"Balise <unitid> pour l'identifiant unique de l'unité\"\n",
        "                  },\n",
        "                  \"unittitle\": {\n",
        "                    \"type\": \"string\",\n",
        "                    \"description\": \"Balise <unittitle> pour le titre de l'unité\"\n",
        "                  },\n",
        "                  \"unitdate\": {\n",
        "                    \"type\": \"date\",\n",
        "                    \"description\": \"Balise <unitdate> pour la date associée à l'unité.\"\n",
        "                  }\n",
        "                },\n",
        "                \"required\": [\"unitid\", \"unittitle\", \"unitdate\"]\n",
        "              },\n",
        "              \"scopecontent\": {\n",
        "                \"type\": \"string\",\n",
        "                \"description\": \"Balise <scopecontent> pour la description du contenu\"\n",
        "              },\n",
        "              \"physdesc\": {\n",
        "                \"type\": \"object\",\n",
        "                \"description\": \"Balise <physdesc> pour la description physique repérable notamment à la mention de 'pièce'\",\n",
        "                \"properties\": {\n",
        "                    \"extent\": {\n",
        "                      \"type\": \"string\",\n",
        "                      \"description\": \"Balise <extent> pour l'étendue des matériaux, à inclure systématiquement dans n'importe quelle balise <physdesc>\"\n",
        "                    }\n",
        "                },\n",
        "              \"required\": [\"extent\"]\n",
        "              },\n",
        "              \"controlaccess\": {\n",
        "                \"type\": \"string\",\n",
        "                \"description\": \"Balise <controlaccess> pour les termes de contrôle d'accès\"\n",
        "              },\n",
        "              \"bioghist\": {\n",
        "                \"type\": \"string\",\n",
        "                \"description\": \"Balise <bioghist> pour l'histoire biographique\"\n",
        "              }\n",
        "            },\n",
        "            \"required\": [\"did\"]\n",
        "          }\n",
        "        },\n",
        "        \"required\": [\"c\"]\n",
        "      }\n",
        "    },\n",
        "    {\n",
        "    \"name\": \"generate_ead_xml\",\n",
        "      \"description\": \"Pourrais-tu m'encoder cet extrait de description archivistique au format XML/EAD ? Attention, il ne s'agit que d'une balise <c> dans <dsc>.\",\n",
        "      \"parameters\": {\n",
        "        \"type\": \"object\",\n",
        "        \"properties\": {\n",
        "          \"c\": {\n",
        "            \"type\": \"object\",\n",
        "            \"description\": \"Balise <c> représentant un composant de description\",\n",
        "            \"properties\": {\n",
        "              \"level\": {\n",
        "                \"type\": \"str\",\n",
        "                \"description\": \"Attribut 'level', dont la valeur est généralement 'recordgrp'\"\n",
        "              },\n",
        "              \"did\": {\n",
        "                \"type\": \"object\",\n",
        "                \"description\": \"Balise <did> pour la description des données\",\n",
        "                \"properties\": {\n",
        "                  \"unitid\": {\n",
        "                    \"type\": \"str\",\n",
        "                    \"description\": \"Balise <unitid> pour l'identifiant unique de l'unité\"\n",
        "                  },\n",
        "                  \"unittitle\": {\n",
        "                    \"type\": \"str\",\n",
        "                    \"description\": \"Balise <unittitle> pour le titre de l'unité\"\n",
        "                  },\n",
        "                  \"unitdate\": {\n",
        "                    \"type\": \"date\",\n",
        "                    \"description\": \"Balise <unitdate> pour la date associée à l'unité.\"\n",
        "                  }\n",
        "                },\n",
        "                \"required\": [\"unitid\", \"unittitle\", \"unitdate\"]\n",
        "              }\n",
        "            }\n",
        "          }\n",
        "        }\n",
        "      },\n",
        "    \"returns\" : \"c\"\n",
        "    }\n",
        "  ]"
      ],
      "metadata": {
        "id": "m4kvQQ_nCay0"
      },
      "execution_count": null,
      "outputs": []
    },
    {
      "cell_type": "code",
      "source": [
        "def generate_hermes(prompt):\n",
        "    fn = \"\"\"{\"name\": \"generate_ead_xml\", \"arguments\": {\"arg_1\": value_1 {\"arg_2\": value_2 {\"arg_3\": value_3, \"arg_4\": value_4, \"arg_5\": value_5...}}}\"\"\"\n",
        "    prompt = f\"\"\"<|im_start|>system\n",
        "      Vous êtes un assistant utile ayant accès à la fonction suivante :\n",
        "      {functions[0]}\n",
        "\n",
        "      Pour utiliser cette fonction, il faut répondre par:\n",
        "      <functioncall> {fn} </functioncall>\n",
        "\n",
        "      Les cas marginaux doivent être traités :\n",
        "      - Si aucune fonction ne correspond à la demande de l'utilisateur, vous répondrez poliment que vous ne pouvez pas l'aider.<|im_end|>\n",
        "      <|im_start|>user\n",
        "      Pourrais-tu m'encoder cet extrait de description archivistique au format XML/EAD ? Attention, il ne s'agit que d'une balise <c>.\n",
        "      {prompt}<|im_end|>\n",
        "      <|im_start|>assistant\"\"\"\n",
        "\n",
        "    tokens = tokenizer(prompt, return_tensors=\"pt\").to(model.device)\n",
        "    input_size = tokens.input_ids.numel()\n",
        "    with torch.inference_mode():\n",
        "        generated_tokens = model.generate(**tokens,\n",
        "                                          use_cache=True,\n",
        "                                          do_sample=True,\n",
        "                                          temperature=0.2,\n",
        "                                          top_p=0.3,\n",
        "                                          top_k=0,\n",
        "                                          max_new_tokens=512,\n",
        "                                          eos_token_id=tokenizer.eos_token_id,\n",
        "                                          pad_token_id=tokenizer.eos_token_id)\n",
        "\n",
        "    return tokenizer.decode(generated_tokens.squeeze()[input_size:], skip_special_tokens=True)"
      ],
      "metadata": {
        "id": "EdPboY4KDAgY"
      },
      "execution_count": null,
      "outputs": []
    },
    {
      "cell_type": "code",
      "source": [
        "prompts = [\n",
        "    \"\"\"\n",
        "    Planche n°4\n",
        "    recto : les escorteurs MOUSQUET, FLAMBERGE, L'ARDENT, 4 photographies,\n",
        "    11 x8cm (avril 1951)\n",
        "    verso : photographies absentes ( 4)\n",
        "    \"\"\"\n",
        "]"
      ],
      "metadata": {
        "id": "NGFQ2UkIDUA0"
      },
      "execution_count": null,
      "outputs": []
    },
    {
      "cell_type": "code",
      "source": [
        "for prompt in prompts:\n",
        "    completion = generate_hermes(prompt)\n",
        "    print(completion.strip())"
      ],
      "metadata": {
        "colab": {
          "base_uri": "https://localhost:8080/"
        },
        "id": "A0BY2ic1DzKk",
        "outputId": "f37acdae-51d2-490e-9659-3b500ba7975d"
      },
      "execution_count": null,
      "outputs": [
        {
          "output_type": "stream",
          "name": "stdout",
          "text": [
            "<functioncall> {\"name\": \"generate_ead_xml\", \"arguments\": {\"arg_1\": {\"arg_2\": {\"arg_3\": {\"c\": {\"level\": \"recordgrp\", \"did\": {\"unitid\": \"Planche_n°4\", \"unittitle\": \"recto : les escorteurs MOUSQUET, FLAMBERGE, L'ARDENT, 4 photographies, 11 x8cm (avril 1951)\", \"unitdate\": \"2023-01-01T00:00:00\", \"scopecontent\": \"4 photographies, 11 x8cm (avril 1951)\", \"physdesc\": {\"extent\": \"verso : photographies absentes ( 4)\"}, \"controlaccess\": \"\", \"bioghist\": \"\"}}, \"required\": [\"unitid\", \"unittitle\", \"unitdate\", \"scopecontent\", \"physdesc\", \"controlaccess\", \"bioghist\"]}, \"required\": [\"did\"]}, \"required\": [\"c\"]}}} </functioncall>\n"
          ]
        }
      ]
    }
  ]
}